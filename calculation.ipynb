{
 "metadata": {
  "language_info": {
   "codemirror_mode": {
    "name": "ipython",
    "version": 3
   },
   "file_extension": ".py",
   "mimetype": "text/x-python",
   "name": "python",
   "nbconvert_exporter": "python",
   "pygments_lexer": "ipython3",
   "version": "3.9.5"
  },
  "orig_nbformat": 4,
  "kernelspec": {
   "name": "python3",
   "display_name": "Python 3.9.5 64-bit (windows store)"
  },
  "interpreter": {
   "hash": "9482e6b08417a547e39716b9af11f29f02494ba6fdc07e57d03cb8a19793fcde"
  }
 },
 "nbformat": 4,
 "nbformat_minor": 2,
 "cells": [
  {
   "source": [
    "# Import libs"
   ],
   "cell_type": "markdown",
   "metadata": {}
  },
  {
   "cell_type": "code",
   "execution_count": null,
   "metadata": {},
   "outputs": [],
   "source": [
    "import os\n",
    "import glob\n",
    "import pandas as pd\n",
    "from datetime import datetime\n",
    "import plotly\n",
    "import plotly.graph_objects as go\n",
    "from plotly.subplots import make_subplots"
   ]
  },
  {
   "source": [
    "## NHS App"
   ],
   "cell_type": "markdown",
   "metadata": {}
  },
  {
   "cell_type": "code",
   "execution_count": null,
   "metadata": {},
   "outputs": [],
   "source": [
    "import os\n",
    "import glob\n",
    "import pandas as pd\n",
    "\n",
    "def concat_datasets(path):\n",
    "    \"\"\"import multiple datasets (.csv files) and concatenates into one dataframe\"\"\"\n",
    "    # glob makes a list of all files and paths to each dataset i.e., \".../data/dataset1.csv\" and so on\n",
    "    file_list = glob.glob(os.path.join(data_path, \"*.csv\"))      \n",
    "    # for each file (.csv) in the list of files concatenate them together    \n",
    "    df = pd.concat((pd.read_csv(file) for file in file_list))\n",
    "    # returns the single dataframe as the output of the function\n",
    "    return df\n",
    "\n",
    "# set the path to data folder\n",
    "data_path = r'data/NHS_app_extract'\n",
    "# invoke function and save results as nhsapp_df\n",
    "nhsapp_df = concat_datasets(data_path)\n",
    "# show result\n",
    "nhsapp_df"
   ]
  },
  {
   "cell_type": "code",
   "execution_count": null,
   "metadata": {},
   "outputs": [],
   "source": [
    "# group all data by date and NHS region\n",
    "nhsapp_df = nhsapp_df.groupby(['First_Report_Date','First_Region']).sum().reset_index()\n",
    "# show result\n",
    "nhsapp_df"
   ]
  },
  {
   "cell_type": "code",
   "execution_count": null,
   "metadata": {},
   "outputs": [],
   "source": [
    "# set cols that relate to activity metrics\n",
    "activity_cols = ['Sum_Usage_LoginSessions_Login_Sessions',\n",
    "                 'Sum_Usage_Appointments_Appointments_booked',\n",
    "                 'Sum_Usage_CancelledAppointments_Cancellation_Count',\n",
    "                 'Sum_Usage_MedicalRecords_Medical_record_views',\n",
    "                 'Sum_Usage_Prescriptions_Prescriptions_Ordered']\n",
    "\n",
    "# set col that contains the population figures\n",
    "population_col = 'Max_GP_Registered_Patients'\n",
    "       \n",
    "def per100kpopulation(df, cols, population, per_capita):\n",
    "    \"\"\"divide the calculation_cols by the population_col on a per capita basis\"\"\"\n",
    "    per100kpop = [col + \"_per100kpop\" for col in cols]\n",
    "    df[per100kpop] = df[cols].div(df[population]/per_capita, axis=0)\n",
    "    return df\n",
    "\n",
    "# set per capita value i.e., per 1000 or per 100K population\n",
    "per_capita = 100000\n",
    "\n",
    "# invoke function and save results as nhsapp_df\n",
    "nhsapp_df = per100kpopulation(nhsapp_df, activity_cols, population_col, per_capita)\n",
    "# show result\n",
    "nhsapp_df"
   ]
  },
  {
   "cell_type": "code",
   "execution_count": null,
   "metadata": {},
   "outputs": [],
   "source": [
    "start_date = '2019-01-01'\n",
    "end_date = '2021-01-01'\n",
    "# convert the 'report date' col to datetime format\n",
    "nhsapp_df['First_Report_Date'] = pd.to_datetime(\n",
    "    nhsapp_df['First_Report_Date']\n",
    "    )\n",
    "\n",
    "# create a mask that will filter by date\n",
    "mask = (\n",
    "    nhsapp_df['First_Report_Date'] > start_date) & (\n",
    "    nhsapp_df['First_Report_Date'] <= end_date\n",
    "    )\n",
    "# apply the date filter to the dataframe\n",
    "nhsapp_df = nhsapp_df.loc[mask]\n",
    "\n",
    "data_path = r'data/NHS_app_extract/outputs'\n",
    "nhsapp_df.to_csv(os.path.join(data_path, 'nhsapp_df_analysis.csv'))"
   ]
  },
  {
   "source": [
    "## POMI"
   ],
   "cell_type": "markdown",
   "metadata": {}
  },
  {
   "cell_type": "code",
   "execution_count": null,
   "metadata": {},
   "outputs": [],
   "source": [
    "# import data\n",
    "data_path = r'data/Pomi_latest'\n",
    "file_list = glob.glob(os.path.join(data_path, \"*.csv\"))\n",
    "pomi_df = pd.concat((pd.read_csv(file) for file in file_list))"
   ]
  },
  {
   "cell_type": "code",
   "execution_count": null,
   "metadata": {},
   "outputs": [],
   "source": [
    "pomi_df = pomi_df.groupby(['region_name','field'])['value'].sum().unstack('field').reset_index()\n",
    "\n",
    "data_path = r'data/Pomi_latest/outputs'\n",
    "pomi_df.to_csv(os.path.join(data_path, 'pomi_df_analysis.csv'))"
   ]
  },
  {
   "source": [
    "## GP Survey"
   ],
   "cell_type": "markdown",
   "metadata": {}
  },
  {
   "cell_type": "code",
   "execution_count": null,
   "metadata": {},
   "outputs": [],
   "source": [
    "# import data\n",
    "data_path = r'data/GP_survey'\n",
    "file_name = r'GPPS_2021_CCG_data_(weighted)_(csv)_PUBLIC.csv'\n",
    "file_list = glob.glob(os.path.join(data_path, file_name))\n",
    "gpSurvey_df = pd.concat((pd.read_csv(file) for file in file_list))\n",
    "gpSurvey_df.columns"
   ]
  },
  {
   "cell_type": "code",
   "execution_count": null,
   "metadata": {},
   "outputs": [],
   "source": [
    "# import data\n",
    "data_path = r'data/GP_survey'\n",
    "file_name = r'GPPS_2021_List_of_reporting_variables_(csv)_PUBLIC.csv'\n",
    "file_list = glob.glob(os.path.join(data_path, file_name))\n",
    "gpSurvey_questions_df = pd.concat((pd.read_csv(file) for file in file_list))\n",
    "gpSurvey_questions_df.head(10)"
   ]
  },
  {
   "cell_type": "code",
   "execution_count": null,
   "metadata": {},
   "outputs": [],
   "source": []
  }
 ]
}