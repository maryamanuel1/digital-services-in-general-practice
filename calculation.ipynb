{
 "metadata": {
  "language_info": {
   "codemirror_mode": {
    "name": "ipython",
    "version": 3
   },
   "file_extension": ".py",
   "mimetype": "text/x-python",
   "name": "python",
   "nbconvert_exporter": "python",
   "pygments_lexer": "ipython3",
   "version": "3.9.5"
  },
  "orig_nbformat": 4,
  "kernelspec": {
   "name": "python3",
   "display_name": "Python 3.9.5 64-bit (windows store)"
  },
  "interpreter": {
   "hash": "9482e6b08417a547e39716b9af11f29f02494ba6fdc07e57d03cb8a19793fcde"
  }
 },
 "nbformat": 4,
 "nbformat_minor": 2,
 "cells": [
  {
   "source": [
    "# Import libs"
   ],
   "cell_type": "markdown",
   "metadata": {}
  },
  {
   "cell_type": "code",
   "execution_count": null,
   "metadata": {},
   "outputs": [],
   "source": [
    "import os\n",
    "import glob\n",
    "import pandas as pd\n",
    "from datetime import datetime\n",
    "import plotly\n",
    "import plotly.graph_objects as go\n",
    "from plotly.subplots import make_subplots"
   ]
  },
  {
   "source": [
    "## GP registered population data (Region)"
   ],
   "cell_type": "markdown",
   "metadata": {}
  },
  {
   "cell_type": "code",
   "execution_count": null,
   "metadata": {},
   "outputs": [],
   "source": [
    "# data source: https://digital.nhs.uk/data-and-information/publications/statistical/patients-registered-at-a-gp-practice/june-2021\n",
    "\n",
    "# set the path to data\n",
    "data_path = r'data/'\n",
    "data_file = r'gp_reg_pop_regions.csv'\n",
    "gpreg_df = pd.read_csv(data_path+data_file)\n",
    "\n",
    "# format region names\n",
    "gpreg_df['region_name'] = gpreg_df['region_name'].str.replace(' COMMISSIONING REGION', '')\n",
    "gpreg_df['region_name'] = gpreg_df['region_name'].str.upper()\n",
    "gpreg_df"
   ]
  },
  {
   "source": [
    "## NHS App"
   ],
   "cell_type": "markdown",
   "metadata": {}
  },
  {
   "cell_type": "code",
   "execution_count": null,
   "metadata": {},
   "outputs": [],
   "source": [
    "import os\n",
    "import glob\n",
    "import pandas as pd\n",
    "\n",
    "def concat_datasets(path):\n",
    "    \"\"\"import multiple datasets (.csv files) and concatenates into one dataframe\"\"\"\n",
    "    # glob makes a list of all files and paths to each dataset i.e., \".../data/dataset1.csv\" and so on\n",
    "    file_list = glob.glob(os.path.join(data_path, \"*.csv\"))      \n",
    "    # for each file (.csv) in the list of files concatenate them together    \n",
    "    df = pd.concat((pd.read_csv(file) for file in file_list))\n",
    "    # returns the single dataframe as the output of the function\n",
    "    return df\n",
    "\n",
    "# set the path to data folder\n",
    "data_path = r'data/NHS_app_extract'\n",
    "# invoke function and save results as nhsapp_df\n",
    "nhsapp_df = concat_datasets(data_path)\n",
    "\n",
    "# remove pre-processing prefixes\n",
    "prefixes = ['First_','Max_','Sum_']\n",
    "for prefix in prefixes:\n",
    "    nhsapp_df.columns = nhsapp_df.columns.str.replace(prefix, '')\n",
    "nhsapp_df['Region'] = nhsapp_df['Region'].str.upper()\n",
    "\n",
    "# set cols to keep\n",
    "cols = ['Month','Report_Date','Region','NHSApp_RegistrationsCount', 'Usage_LoginSessions_Login_Sessions',\n",
    "                'Usage_Appointments_Appointments_booked',\n",
    "                'Usage_CancelledAppointments_Cancellation_Count',\n",
    "                'Usage_MedicalRecords_Medical_record_views',\n",
    "                'Usage_Prescriptions_Prescriptions_Ordered']\n",
    "                \n",
    "# make df from selected cols\n",
    "nhsapp_df = pd.DataFrame(nhsapp_df, columns=cols)\n",
    "\n",
    "nhsapp_df.tail()"
   ]
  },
  {
   "cell_type": "code",
   "execution_count": null,
   "metadata": {},
   "outputs": [],
   "source": [
    "nhsapp_df = nhsapp_df.groupby(['Report_Date','Region']).sum().reset_index()\n",
    "nhsapp_df"
   ]
  },
  {
   "cell_type": "code",
   "execution_count": null,
   "metadata": {},
   "outputs": [],
   "source": [
    "# join GP reg population data to NHS App dataset\n",
    "nhsapp_df = pd.merge(nhsapp_df, gpreg_df, left_on='Region', right_on='region_name', how='left')\n",
    "\n",
    "nhsapp_df"
   ]
  },
  {
   "cell_type": "code",
   "execution_count": null,
   "metadata": {},
   "outputs": [],
   "source": [
    "# set cols that relate to activity metrics\n",
    "activity_cols = ['Usage_LoginSessions_Login_Sessions',\n",
    "                'Usage_Appointments_Appointments_booked',\n",
    "                'Usage_CancelledAppointments_Cancellation_Count',\n",
    "                'Usage_MedicalRecords_Medical_record_views',\n",
    "                'Usage_Prescriptions_Prescriptions_Ordered']\n",
    "\n",
    "# set col that contains the new user registration figures\n",
    "registration_col = ['NHSApp_RegistrationsCount']\n",
    "       \n",
    "# set col that contains the GP population figures\n",
    "population_col = 'NUMBER_OF_PATIENTS'\n",
    "\n",
    "def per100kpopulation(df, cols, population, per_capita):\n",
    "    \"\"\"divide the calculation_cols by the population_col on a per capita basis\"\"\"\n",
    "    per100kpop = [col + \"_per100kpop\" for col in cols]\n",
    "    df[per100kpop] = df[cols].div(df[population]/per_capita, axis=0)\n",
    "    return df\n",
    "\n",
    "# set per capita value i.e., per 1000 or per 100K population\n",
    "per_capita = 100000\n",
    "\n",
    "# invoke function and save results as nhsapp_df\n",
    "nhsapp_df = per100kpopulation(nhsapp_df, activity_cols+registration_col, population_col, per_capita)"
   ]
  },
  {
   "cell_type": "code",
   "execution_count": null,
   "metadata": {},
   "outputs": [],
   "source": [
    "start_date = '2019-06-01'\n",
    "end_date = '2021-06-01'\n",
    "# convert the 'report date' col to datetime format\n",
    "nhsapp_df['Report_Date'] = pd.to_datetime(\n",
    "    nhsapp_df['Report_Date']\n",
    "    )\n",
    "\n",
    "# create a mask that will filter by date\n",
    "mask = (\n",
    "    nhsapp_df['Report_Date'] > start_date) & (\n",
    "    nhsapp_df['Report_Date'] <= end_date\n",
    "    )\n",
    "# apply the date filter to the dataframe\n",
    "nhsapp_df = nhsapp_df.loc[mask]\n",
    "\n",
    "data_path = r'data/NHS_app_extract/outputs'\n",
    "nhsapp_df.to_csv(os.path.join(data_path, 'nhsapp_df_analysis.csv'))"
   ]
  },
  {
   "source": [
    "## POMI"
   ],
   "cell_type": "markdown",
   "metadata": {}
  },
  {
   "cell_type": "code",
   "execution_count": null,
   "metadata": {},
   "outputs": [],
   "source": [
    "# import data\n",
    "data_path = r'data/Pomi_latest'\n",
    "\n",
    "# invoke function and save results as nhsapp_df\n",
    "pomi_df = concat_datasets(data_path)"
   ]
  },
  {
   "cell_type": "code",
   "execution_count": null,
   "metadata": {},
   "outputs": [],
   "source": [
    "pomi_df = pomi_df.groupby(['region_name','field', 'report_period_end'])['value'].sum().unstack('field').reset_index()"
   ]
  },
  {
   "cell_type": "code",
   "execution_count": null,
   "metadata": {},
   "outputs": [],
   "source": [
    "# format region names\n",
    "pomi_df['region_name'] = pomi_df['region_name'].str.replace(' COMMISSIONING REGION', '')\n",
    "pomi_df['region_name'] = pomi_df['region_name'].str.upper()\n",
    "\n",
    "# join GP reg population data to POMI dataset\n",
    "pomi_df = pd.merge(pomi_df, gpreg_df, left_on='region_name', right_on='region_name', how='left')\n",
    "pomi_df"
   ]
  },
  {
   "cell_type": "code",
   "execution_count": null,
   "metadata": {},
   "outputs": [],
   "source": [
    "per_capita = 100000\n",
    "\n",
    "pomi_df['Pat_Appts_per100kpopEnbld'] = pomi_df['Pat_Appts_Use'].div(pomi_df['Pat_Appts_Enbld']/per_capita, axis=0)\n",
    "\n",
    "pomi_df['Pat_Presc_per100kpopEnbld'] = pomi_df['Pat_Appts_Use'].div(pomi_df['Pat_Presc_Enbld']/per_capita, axis=0)\n",
    "\n",
    "pomi_df['Total_Use_per100kpopEnbld'] = pomi_df['Total_Use'].div(pomi_df['Total_Pat_Enbld']/per_capita, axis=0)\n",
    "\n",
    "pomi_df"
   ]
  },
  {
   "cell_type": "code",
   "execution_count": null,
   "metadata": {},
   "outputs": [],
   "source": [
    "start_date = '2019-06-01'\n",
    "end_date = '2021-06-01'\n",
    "# convert the 'report date' col to datetime format\n",
    "pomi_df['report_period_end'] = pd.to_datetime(\n",
    "    pomi_df['report_period_end']\n",
    "    )\n",
    "\n",
    "# create a mask that will filter by date\n",
    "mask = (\n",
    "    pomi_df['report_period_end'] > start_date) & (\n",
    "    pomi_df['report_period_end'] <= end_date\n",
    "    )\n",
    "# apply the date filter to the dataframe\n",
    "pomi_df = pomi_df.loc[mask]\n",
    "\n",
    "data_path = r'data/Pomi_latest/outputs'\n",
    "pomi_df.to_csv(os.path.join(data_path, 'pomi_df_analysis.csv'))"
   ]
  },
  {
   "source": [
    "## GP Survey"
   ],
   "cell_type": "markdown",
   "metadata": {}
  },
  {
   "cell_type": "code",
   "execution_count": null,
   "metadata": {},
   "outputs": [],
   "source": [
    "# import data\n",
    "data_path = r'data/GP_survey'\n",
    "file_name = r'GPPS_2021_CCG_data_(weighted)_(csv)_PUBLIC.csv'\n",
    "file_list = glob.glob(os.path.join(data_path, file_name))\n",
    "gpSurvey_df = pd.concat((pd.read_csv(file) for file in file_list))\n",
    "gpSurvey_df.columns"
   ]
  },
  {
   "cell_type": "code",
   "execution_count": null,
   "metadata": {},
   "outputs": [],
   "source": [
    "# import data\n",
    "data_path = r'data/GP_survey'\n",
    "file_name = r'GPPS_2021_List_of_reporting_variables_(csv)_PUBLIC.csv'\n",
    "file_list = glob.glob(os.path.join(data_path, file_name))\n",
    "gpSurvey_questions_df = pd.concat((pd.read_csv(file) for file in file_list))\n",
    "gpSurvey_questions_df.head(10)"
   ]
  },
  {
   "cell_type": "code",
   "execution_count": null,
   "metadata": {},
   "outputs": [],
   "source": []
  }
 ]
}