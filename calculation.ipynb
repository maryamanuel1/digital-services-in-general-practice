{
 "metadata": {
  "language_info": {
   "codemirror_mode": {
    "name": "ipython",
    "version": 3
   },
   "file_extension": ".py",
   "mimetype": "text/x-python",
   "name": "python",
   "nbconvert_exporter": "python",
   "pygments_lexer": "ipython3",
   "version": "3.8.8"
  },
  "orig_nbformat": 4,
  "kernelspec": {
   "name": "python3",
   "display_name": "Python 3",
   "language": "python"
  },
  "interpreter": {
   "hash": "9482e6b08417a547e39716b9af11f29f02494ba6fdc07e57d03cb8a19793fcde"
  }
 },
 "nbformat": 4,
 "nbformat_minor": 2,
 "cells": [
  {
   "source": [
    "# Import libs"
   ],
   "cell_type": "markdown",
   "metadata": {}
  },
  {
   "cell_type": "code",
   "execution_count": null,
   "metadata": {},
   "outputs": [],
   "source": [
    "import os\n",
    "import glob\n",
    "import pandas as pd\n",
    "from datetime import datetime\n",
    "import plotly\n",
    "import plotly.graph_objects as go\n",
    "from plotly.subplots import make_subplots"
   ]
  },
  {
   "source": [
    "## NHS App Analysis"
   ],
   "cell_type": "markdown",
   "metadata": {}
  },
  {
   "cell_type": "code",
   "execution_count": null,
   "metadata": {},
   "outputs": [],
   "source": [
    "# import data\n",
    "data_path = r'data/NHS_app_extract'\n",
    "file_list = glob.glob(os.path.join(data_path, \"*.csv\"))\n",
    "nhsapp_df = pd.concat((pd.read_csv(file) for file in file_list))\n",
    "nhsapp_df"
   ]
  },
  {
   "cell_type": "code",
   "execution_count": null,
   "metadata": {},
   "outputs": [],
   "source": [
    "nhsapp_df.groupby(['First_Region']).mean()"
   ]
  },
  {
   "cell_type": "code",
   "execution_count": null,
   "metadata": {},
   "outputs": [],
   "source": [
    "# sum to region\n",
    "activity_cols = ['Sum_Usage_LoginSessions_Login_Sessions','Sum_Usage_Appointments_Appointments_booked',\n",
    "       'Sum_Usage_CancelledAppointments_Cancellation_Count',\n",
    "       'Sum_Usage_Appointments_monthly_Unique_Visitors',\n",
    "       'Sum_Usage_MedicalRecords_Medical_record_views',\n",
    "       'Sum_Usage_medicalrecord_monthly_Unique_Visitors',\n",
    "       'Sum_Usage_OrganDonationRegUpdates_SuccessfulUpdates',\n",
    "       'Sum_Usage_OrganDonationRegWithdrawals_SuccessfulUpdates',\n",
    "       'Sum_Usage_OrganDonation_RegistrationsODR',\n",
    "       'Sum_Usage_Prescriptions_Prescriptions_Ordered',\n",
    "       'Sum_Usage_Prescriptions_monthly_Unique_Visitors']\n",
    "\n",
    "uptake_cols = ['Max_GP_Registered_Patients','Sum_NHSApp_RegistrationsCount']\n",
    "\n",
    "nhsapp_df_analysis = pd.concat([\n",
    "    nhsapp_df.groupby(['First_Report_Date','First_Region'])[uptake_cols].sum(),\n",
    "    nhsapp_df.groupby(['First_Report_Date','First_Region'])[activity_cols].sum()\n",
    "    ], axis=1\n",
    "    ).reset_index()"
   ]
  },
  {
   "cell_type": "code",
   "execution_count": null,
   "metadata": {},
   "outputs": [],
   "source": [
    "# per 1000 population calcs\n",
    "activity_cols_per1000pop = [col + \"_per1000pop\" for col in activity_cols]\n",
    "\n",
    "nhsapp_df_analysis[activity_cols_per1000pop] = nhsapp_df_analysis[activity_cols].div(nhsapp_df_analysis['Max_GP_Registered_Patients']/1000, axis=0)"
   ]
  },
  {
   "cell_type": "code",
   "execution_count": null,
   "metadata": {},
   "outputs": [],
   "source": [
    "# filter by date\n",
    "start_date = '2019-01-01'\n",
    "end_date = '2021-01-01'\n",
    "nhsapp_df_analysis['First_Report_Date'] = pd.to_datetime(\n",
    "    nhsapp_df_analysis['First_Report_Date']\n",
    "    )\n",
    "\n",
    "mask = (\n",
    "    nhsapp_df_analysis['First_Report_Date'] > start_date) & (\n",
    "    nhsapp_df_analysis['First_Report_Date'] <= end_date\n",
    "    )\n",
    "\n",
    "\n",
    "nhsapp_df_analysis = nhsapp_df_analysis.loc[mask]\n",
    "\n",
    "data_path = r'data/NHS_app_extract/outputs'\n",
    "nhsapp_df_analysis.to_csv(os.path.join(data_path, 'nhsapp_df_analysis.csv'))"
   ]
  },
  {
   "cell_type": "code",
   "execution_count": null,
   "metadata": {},
   "outputs": [],
   "source": [
    "nhsapp_df_analysis_final = pd.concat([\n",
    "    nhsapp_df_analysis.groupby(['First_Region'])['Max_GP_Registered_Patients'].max(),\n",
    "    nhsapp_df_analysis.groupby(['First_Region'])['Sum_NHSApp_RegistrationsCount'].sum(),\n",
    "    nhsapp_df_analysis.groupby(['First_Region'])[activity_cols+activity_cols_per1000pop].mean()\n",
    "    ], axis=1\n",
    "    ).reset_index()\n",
    "nhsapp_df_analysis_final\n",
    "\n",
    "data_path = r'data/NHS_app_extract/outputs'\n",
    "nhsapp_df_analysis_final.to_csv(os.path.join(data_path, 'nhsapp_df_analysis_final.csv'))"
   ]
  },
  {
   "source": [
    "## POMI"
   ],
   "cell_type": "markdown",
   "metadata": {}
  },
  {
   "cell_type": "code",
   "execution_count": null,
   "metadata": {},
   "outputs": [],
   "source": [
    "# import data\n",
    "data_path = r'data/Pomi_latest'\n",
    "file_list = glob.glob(os.path.join(data_path, \"*.csv\"))\n",
    "pomi_df = pd.concat((pd.read_csv(file) for file in file_list))"
   ]
  },
  {
   "cell_type": "code",
   "execution_count": null,
   "metadata": {},
   "outputs": [],
   "source": [
    "pomi_df = pomi_df.groupby(['region_name','field'])['value'].sum().unstack('field').reset_index()\n",
    "\n",
    "data_path = r'data/Pomi_latest/outputs'\n",
    "pomi_df.to_csv(os.path.join(data_path, 'pomi_df_analysis.csv'))"
   ]
  },
  {
   "source": [
    "## GP Survey"
   ],
   "cell_type": "markdown",
   "metadata": {}
  },
  {
   "cell_type": "code",
   "execution_count": null,
   "metadata": {},
   "outputs": [],
   "source": [
    "# import data\n",
    "data_path = r'data/GP_survey'\n",
    "file_name = r'GPPS_2021_CCG_data_(weighted)_(csv)_PUBLIC.csv'\n",
    "file_list = glob.glob(os.path.join(data_path, file_name))\n",
    "gpSurvey_df = pd.concat((pd.read_csv(file) for file in file_list))\n",
    "gpSurvey_df.columns"
   ]
  },
  {
   "cell_type": "code",
   "execution_count": null,
   "metadata": {},
   "outputs": [],
   "source": [
    "# import data\n",
    "data_path = r'data/GP_survey'\n",
    "file_name = r'GPPS_2021_List_of_reporting_variables_(csv)_PUBLIC.csv'\n",
    "file_list = glob.glob(os.path.join(data_path, file_name))\n",
    "gpSurvey_questions_df = pd.concat((pd.read_csv(file) for file in file_list))\n",
    "gpSurvey_questions_df.head(10)"
   ]
  },
  {
   "cell_type": "code",
   "execution_count": null,
   "metadata": {},
   "outputs": [],
   "source": []
  }
 ]
}