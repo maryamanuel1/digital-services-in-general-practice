{
 "cells": [
  {
   "cell_type": "code",
   "execution_count": 155,
   "source": [
    "import pandas as pd\n",
    "import os\n",
    "import plotly\n",
    "import plotly.graph_objects as go\n",
    "import plotly.express as px\n",
    "import numpy as np\n",
    "import datetime\n",
    "\n",
    "nhs_colours = ['#00A499', '#FFB81C', '#7C2855']"
   ],
   "outputs": [],
   "metadata": {}
  },
  {
   "cell_type": "markdown",
   "source": [
    "# Appointments Analysis"
   ],
   "metadata": {}
  },
  {
   "cell_type": "markdown",
   "source": [
    "### What type of appointment did you get?"
   ],
   "metadata": {}
  },
  {
   "cell_type": "code",
   "execution_count": 156,
   "source": [
    "# import csv file\n",
    "appointment_types = pd.read_csv('data/Appoinment_types.csv', sep=',', header=0)\n",
    "# rename blank first col\n",
    "appointment_types.rename({' ':'Appointemnt Types'}, axis=1, inplace=True)\n",
    "appointment_types"
   ],
   "outputs": [
    {
     "output_type": "execute_result",
     "data": {
      "text/plain": [
       "                                   Appointemnt Types  Q1 2018  Q1 2019  \\\n",
       "0                   To speak to someone on the phone    58654    60756   \n",
       "1  To speak to someone online (for example on a v...      393      596   \n",
       "2  To see someone at another general practice loc...    20082    24930   \n",
       "3                   To see someone at my GP practice   548877   549943   \n",
       "4                                   For a home visit     5351     4944   \n",
       "\n",
       "   Q1 2020  Q1 2021  \n",
       "0    59375   309311  \n",
       "1      970    17047  \n",
       "2    26545    16622  \n",
       "3   514151   313459  \n",
       "4     4451     3228  "
      ],
      "text/html": [
       "<div>\n",
       "<style scoped>\n",
       "    .dataframe tbody tr th:only-of-type {\n",
       "        vertical-align: middle;\n",
       "    }\n",
       "\n",
       "    .dataframe tbody tr th {\n",
       "        vertical-align: top;\n",
       "    }\n",
       "\n",
       "    .dataframe thead th {\n",
       "        text-align: right;\n",
       "    }\n",
       "</style>\n",
       "<table border=\"1\" class=\"dataframe\">\n",
       "  <thead>\n",
       "    <tr style=\"text-align: right;\">\n",
       "      <th></th>\n",
       "      <th>Appointemnt Types</th>\n",
       "      <th>Q1 2018</th>\n",
       "      <th>Q1 2019</th>\n",
       "      <th>Q1 2020</th>\n",
       "      <th>Q1 2021</th>\n",
       "    </tr>\n",
       "  </thead>\n",
       "  <tbody>\n",
       "    <tr>\n",
       "      <th>0</th>\n",
       "      <td>To speak to someone on the phone</td>\n",
       "      <td>58654</td>\n",
       "      <td>60756</td>\n",
       "      <td>59375</td>\n",
       "      <td>309311</td>\n",
       "    </tr>\n",
       "    <tr>\n",
       "      <th>1</th>\n",
       "      <td>To speak to someone online (for example on a v...</td>\n",
       "      <td>393</td>\n",
       "      <td>596</td>\n",
       "      <td>970</td>\n",
       "      <td>17047</td>\n",
       "    </tr>\n",
       "    <tr>\n",
       "      <th>2</th>\n",
       "      <td>To see someone at another general practice loc...</td>\n",
       "      <td>20082</td>\n",
       "      <td>24930</td>\n",
       "      <td>26545</td>\n",
       "      <td>16622</td>\n",
       "    </tr>\n",
       "    <tr>\n",
       "      <th>3</th>\n",
       "      <td>To see someone at my GP practice</td>\n",
       "      <td>548877</td>\n",
       "      <td>549943</td>\n",
       "      <td>514151</td>\n",
       "      <td>313459</td>\n",
       "    </tr>\n",
       "    <tr>\n",
       "      <th>4</th>\n",
       "      <td>For a home visit</td>\n",
       "      <td>5351</td>\n",
       "      <td>4944</td>\n",
       "      <td>4451</td>\n",
       "      <td>3228</td>\n",
       "    </tr>\n",
       "  </tbody>\n",
       "</table>\n",
       "</div>"
      ]
     },
     "metadata": {},
     "execution_count": 156
    }
   ],
   "metadata": {}
  },
  {
   "cell_type": "code",
   "execution_count": 157,
   "source": [
    "# create a dict of appointments and there coresponding type\n",
    "grouptype = {\n",
    "    'To speak to someone on the phone': 'Remote',\n",
    "    'To speak to someone online (for example on a video call)': 'Remote',\n",
    "    'To see someone at another general practice location': 'Face-to-face',\n",
    "    'To see someone at my GP practice': 'Face-to-face',\n",
    "    'For a home visit': 'Face-to-face'\n",
    "    }\n",
    "# make a new col that maps the groups to the appointments\n",
    "appointment_types['Group Type'] = appointment_types['Appointemnt Types'].map(grouptype)\n",
    "appointment_types"
   ],
   "outputs": [
    {
     "output_type": "execute_result",
     "data": {
      "text/plain": [
       "                                   Appointemnt Types  Q1 2018  Q1 2019  \\\n",
       "0                   To speak to someone on the phone    58654    60756   \n",
       "1  To speak to someone online (for example on a v...      393      596   \n",
       "2  To see someone at another general practice loc...    20082    24930   \n",
       "3                   To see someone at my GP practice   548877   549943   \n",
       "4                                   For a home visit     5351     4944   \n",
       "\n",
       "   Q1 2020  Q1 2021    Group Type  \n",
       "0    59375   309311        Remote  \n",
       "1      970    17047        Remote  \n",
       "2    26545    16622  Face-to-face  \n",
       "3   514151   313459  Face-to-face  \n",
       "4     4451     3228  Face-to-face  "
      ],
      "text/html": [
       "<div>\n",
       "<style scoped>\n",
       "    .dataframe tbody tr th:only-of-type {\n",
       "        vertical-align: middle;\n",
       "    }\n",
       "\n",
       "    .dataframe tbody tr th {\n",
       "        vertical-align: top;\n",
       "    }\n",
       "\n",
       "    .dataframe thead th {\n",
       "        text-align: right;\n",
       "    }\n",
       "</style>\n",
       "<table border=\"1\" class=\"dataframe\">\n",
       "  <thead>\n",
       "    <tr style=\"text-align: right;\">\n",
       "      <th></th>\n",
       "      <th>Appointemnt Types</th>\n",
       "      <th>Q1 2018</th>\n",
       "      <th>Q1 2019</th>\n",
       "      <th>Q1 2020</th>\n",
       "      <th>Q1 2021</th>\n",
       "      <th>Group Type</th>\n",
       "    </tr>\n",
       "  </thead>\n",
       "  <tbody>\n",
       "    <tr>\n",
       "      <th>0</th>\n",
       "      <td>To speak to someone on the phone</td>\n",
       "      <td>58654</td>\n",
       "      <td>60756</td>\n",
       "      <td>59375</td>\n",
       "      <td>309311</td>\n",
       "      <td>Remote</td>\n",
       "    </tr>\n",
       "    <tr>\n",
       "      <th>1</th>\n",
       "      <td>To speak to someone online (for example on a v...</td>\n",
       "      <td>393</td>\n",
       "      <td>596</td>\n",
       "      <td>970</td>\n",
       "      <td>17047</td>\n",
       "      <td>Remote</td>\n",
       "    </tr>\n",
       "    <tr>\n",
       "      <th>2</th>\n",
       "      <td>To see someone at another general practice loc...</td>\n",
       "      <td>20082</td>\n",
       "      <td>24930</td>\n",
       "      <td>26545</td>\n",
       "      <td>16622</td>\n",
       "      <td>Face-to-face</td>\n",
       "    </tr>\n",
       "    <tr>\n",
       "      <th>3</th>\n",
       "      <td>To see someone at my GP practice</td>\n",
       "      <td>548877</td>\n",
       "      <td>549943</td>\n",
       "      <td>514151</td>\n",
       "      <td>313459</td>\n",
       "      <td>Face-to-face</td>\n",
       "    </tr>\n",
       "    <tr>\n",
       "      <th>4</th>\n",
       "      <td>For a home visit</td>\n",
       "      <td>5351</td>\n",
       "      <td>4944</td>\n",
       "      <td>4451</td>\n",
       "      <td>3228</td>\n",
       "      <td>Face-to-face</td>\n",
       "    </tr>\n",
       "  </tbody>\n",
       "</table>\n",
       "</div>"
      ]
     },
     "metadata": {},
     "execution_count": 157
    }
   ],
   "metadata": {}
  },
  {
   "cell_type": "code",
   "execution_count": 158,
   "source": [
    "# now we can groupby type and sum the yearly counts\n",
    "appointment_types_group = appointment_types.groupby('Group Type').sum().reset_index()\n",
    "# melt is like an inverse pivot, changing the data to 'long' format (one observeation per row)\n",
    "appointment_types_group = pd.melt(\n",
    "    appointment_types_group,\n",
    "    id_vars='Group Type',\n",
    "    value_vars=[\n",
    "        'Q1 2018',\n",
    "        'Q1 2019',\n",
    "        'Q1 2020',\n",
    "        'Q1 2021'\n",
    "        ]\n",
    "    )\n",
    "appointment_types_group.columns = [\"Appointment Type\", \"Year\", \"Count\"]\n",
    "appointment_types_group"
   ],
   "outputs": [
    {
     "output_type": "execute_result",
     "data": {
      "text/plain": [
       "  Appointment Type     Year   Count\n",
       "0     Face-to-face  Q1 2018  574310\n",
       "1           Remote  Q1 2018   59047\n",
       "2     Face-to-face  Q1 2019  579817\n",
       "3           Remote  Q1 2019   61352\n",
       "4     Face-to-face  Q1 2020  545147\n",
       "5           Remote  Q1 2020   60345\n",
       "6     Face-to-face  Q1 2021  333309\n",
       "7           Remote  Q1 2021  326358"
      ],
      "text/html": [
       "<div>\n",
       "<style scoped>\n",
       "    .dataframe tbody tr th:only-of-type {\n",
       "        vertical-align: middle;\n",
       "    }\n",
       "\n",
       "    .dataframe tbody tr th {\n",
       "        vertical-align: top;\n",
       "    }\n",
       "\n",
       "    .dataframe thead th {\n",
       "        text-align: right;\n",
       "    }\n",
       "</style>\n",
       "<table border=\"1\" class=\"dataframe\">\n",
       "  <thead>\n",
       "    <tr style=\"text-align: right;\">\n",
       "      <th></th>\n",
       "      <th>Appointment Type</th>\n",
       "      <th>Year</th>\n",
       "      <th>Count</th>\n",
       "    </tr>\n",
       "  </thead>\n",
       "  <tbody>\n",
       "    <tr>\n",
       "      <th>0</th>\n",
       "      <td>Face-to-face</td>\n",
       "      <td>Q1 2018</td>\n",
       "      <td>574310</td>\n",
       "    </tr>\n",
       "    <tr>\n",
       "      <th>1</th>\n",
       "      <td>Remote</td>\n",
       "      <td>Q1 2018</td>\n",
       "      <td>59047</td>\n",
       "    </tr>\n",
       "    <tr>\n",
       "      <th>2</th>\n",
       "      <td>Face-to-face</td>\n",
       "      <td>Q1 2019</td>\n",
       "      <td>579817</td>\n",
       "    </tr>\n",
       "    <tr>\n",
       "      <th>3</th>\n",
       "      <td>Remote</td>\n",
       "      <td>Q1 2019</td>\n",
       "      <td>61352</td>\n",
       "    </tr>\n",
       "    <tr>\n",
       "      <th>4</th>\n",
       "      <td>Face-to-face</td>\n",
       "      <td>Q1 2020</td>\n",
       "      <td>545147</td>\n",
       "    </tr>\n",
       "    <tr>\n",
       "      <th>5</th>\n",
       "      <td>Remote</td>\n",
       "      <td>Q1 2020</td>\n",
       "      <td>60345</td>\n",
       "    </tr>\n",
       "    <tr>\n",
       "      <th>6</th>\n",
       "      <td>Face-to-face</td>\n",
       "      <td>Q1 2021</td>\n",
       "      <td>333309</td>\n",
       "    </tr>\n",
       "    <tr>\n",
       "      <th>7</th>\n",
       "      <td>Remote</td>\n",
       "      <td>Q1 2021</td>\n",
       "      <td>326358</td>\n",
       "    </tr>\n",
       "  </tbody>\n",
       "</table>\n",
       "</div>"
      ]
     },
     "metadata": {},
     "execution_count": 158
    }
   ],
   "metadata": {}
  },
  {
   "cell_type": "code",
   "execution_count": 159,
   "source": [
    "# use groupby on years to get the total counts\n",
    "appointment_year_total = appointment_types_group.groupby('Year').sum().reset_index()\n",
    "appointment_year_total.rename(columns={'Count': 'Total'}, inplace=True)\n",
    "appointment_year_total "
   ],
   "outputs": [
    {
     "output_type": "execute_result",
     "data": {
      "text/plain": [
       "      Year   Total\n",
       "0  Q1 2018  633357\n",
       "1  Q1 2019  641169\n",
       "2  Q1 2020  605492\n",
       "3  Q1 2021  659667"
      ],
      "text/html": [
       "<div>\n",
       "<style scoped>\n",
       "    .dataframe tbody tr th:only-of-type {\n",
       "        vertical-align: middle;\n",
       "    }\n",
       "\n",
       "    .dataframe tbody tr th {\n",
       "        vertical-align: top;\n",
       "    }\n",
       "\n",
       "    .dataframe thead th {\n",
       "        text-align: right;\n",
       "    }\n",
       "</style>\n",
       "<table border=\"1\" class=\"dataframe\">\n",
       "  <thead>\n",
       "    <tr style=\"text-align: right;\">\n",
       "      <th></th>\n",
       "      <th>Year</th>\n",
       "      <th>Total</th>\n",
       "    </tr>\n",
       "  </thead>\n",
       "  <tbody>\n",
       "    <tr>\n",
       "      <th>0</th>\n",
       "      <td>Q1 2018</td>\n",
       "      <td>633357</td>\n",
       "    </tr>\n",
       "    <tr>\n",
       "      <th>1</th>\n",
       "      <td>Q1 2019</td>\n",
       "      <td>641169</td>\n",
       "    </tr>\n",
       "    <tr>\n",
       "      <th>2</th>\n",
       "      <td>Q1 2020</td>\n",
       "      <td>605492</td>\n",
       "    </tr>\n",
       "    <tr>\n",
       "      <th>3</th>\n",
       "      <td>Q1 2021</td>\n",
       "      <td>659667</td>\n",
       "    </tr>\n",
       "  </tbody>\n",
       "</table>\n",
       "</div>"
      ]
     },
     "metadata": {},
     "execution_count": 159
    }
   ],
   "metadata": {}
  },
  {
   "cell_type": "code",
   "execution_count": 160,
   "source": [
    "# merge the totals back to the df\n",
    "appointment_types_group = pd.merge(appointment_types_group, appointment_year_total, on='Year', how='left')\n",
    "# calculate percentages\n",
    "appointment_types_group['Percent'] = appointment_types_group['Count']/appointment_types_group['Total']\n",
    "appointment_types_group"
   ],
   "outputs": [
    {
     "output_type": "execute_result",
     "data": {
      "text/plain": [
       "  Appointment Type     Year   Count   Total   Percent\n",
       "0     Face-to-face  Q1 2018  574310  633357  0.906771\n",
       "1           Remote  Q1 2018   59047  633357  0.093229\n",
       "2     Face-to-face  Q1 2019  579817  641169  0.904312\n",
       "3           Remote  Q1 2019   61352  641169  0.095688\n",
       "4     Face-to-face  Q1 2020  545147  605492  0.900337\n",
       "5           Remote  Q1 2020   60345  605492  0.099663\n",
       "6     Face-to-face  Q1 2021  333309  659667  0.505269\n",
       "7           Remote  Q1 2021  326358  659667  0.494731"
      ],
      "text/html": [
       "<div>\n",
       "<style scoped>\n",
       "    .dataframe tbody tr th:only-of-type {\n",
       "        vertical-align: middle;\n",
       "    }\n",
       "\n",
       "    .dataframe tbody tr th {\n",
       "        vertical-align: top;\n",
       "    }\n",
       "\n",
       "    .dataframe thead th {\n",
       "        text-align: right;\n",
       "    }\n",
       "</style>\n",
       "<table border=\"1\" class=\"dataframe\">\n",
       "  <thead>\n",
       "    <tr style=\"text-align: right;\">\n",
       "      <th></th>\n",
       "      <th>Appointment Type</th>\n",
       "      <th>Year</th>\n",
       "      <th>Count</th>\n",
       "      <th>Total</th>\n",
       "      <th>Percent</th>\n",
       "    </tr>\n",
       "  </thead>\n",
       "  <tbody>\n",
       "    <tr>\n",
       "      <th>0</th>\n",
       "      <td>Face-to-face</td>\n",
       "      <td>Q1 2018</td>\n",
       "      <td>574310</td>\n",
       "      <td>633357</td>\n",
       "      <td>0.906771</td>\n",
       "    </tr>\n",
       "    <tr>\n",
       "      <th>1</th>\n",
       "      <td>Remote</td>\n",
       "      <td>Q1 2018</td>\n",
       "      <td>59047</td>\n",
       "      <td>633357</td>\n",
       "      <td>0.093229</td>\n",
       "    </tr>\n",
       "    <tr>\n",
       "      <th>2</th>\n",
       "      <td>Face-to-face</td>\n",
       "      <td>Q1 2019</td>\n",
       "      <td>579817</td>\n",
       "      <td>641169</td>\n",
       "      <td>0.904312</td>\n",
       "    </tr>\n",
       "    <tr>\n",
       "      <th>3</th>\n",
       "      <td>Remote</td>\n",
       "      <td>Q1 2019</td>\n",
       "      <td>61352</td>\n",
       "      <td>641169</td>\n",
       "      <td>0.095688</td>\n",
       "    </tr>\n",
       "    <tr>\n",
       "      <th>4</th>\n",
       "      <td>Face-to-face</td>\n",
       "      <td>Q1 2020</td>\n",
       "      <td>545147</td>\n",
       "      <td>605492</td>\n",
       "      <td>0.900337</td>\n",
       "    </tr>\n",
       "    <tr>\n",
       "      <th>5</th>\n",
       "      <td>Remote</td>\n",
       "      <td>Q1 2020</td>\n",
       "      <td>60345</td>\n",
       "      <td>605492</td>\n",
       "      <td>0.099663</td>\n",
       "    </tr>\n",
       "    <tr>\n",
       "      <th>6</th>\n",
       "      <td>Face-to-face</td>\n",
       "      <td>Q1 2021</td>\n",
       "      <td>333309</td>\n",
       "      <td>659667</td>\n",
       "      <td>0.505269</td>\n",
       "    </tr>\n",
       "    <tr>\n",
       "      <th>7</th>\n",
       "      <td>Remote</td>\n",
       "      <td>Q1 2021</td>\n",
       "      <td>326358</td>\n",
       "      <td>659667</td>\n",
       "      <td>0.494731</td>\n",
       "    </tr>\n",
       "  </tbody>\n",
       "</table>\n",
       "</div>"
      ]
     },
     "metadata": {},
     "execution_count": 160
    }
   ],
   "metadata": {}
  },
  {
   "cell_type": "markdown",
   "source": [
    "### Appointments: data visualisation"
   ],
   "metadata": {}
  },
  {
   "cell_type": "code",
   "execution_count": 161,
   "source": [
    "# plot the long (tidy) dataframe\n",
    "fig = px.bar(\n",
    "    appointment_types_group,\n",
    "    x=\"Year\",\n",
    "    y=\"Percent\",\n",
    "    color=\"Appointment Type\",\n",
    "    color_discrete_sequence=nhs_colours,\n",
    "    # I would use the website to write chart titles in the correct font/foramt/spacing\n",
    "    #title=\"Remote appointments are now as common as in person appointments\",\n",
    "    barmode=\"stack\",\n",
    "    text=\"Percent\",\n",
    "    height=350,\n",
    ")\n",
    "\n",
    "# Asthetics of the plot\n",
    "fig.update_layout(\n",
    "    # change background colour \n",
    "    {\"plot_bgcolor\": \"rgba(0, 0, 0, 0)\", \"paper_bgcolor\": \"rgba(0, 0, 0, 0)\"},\n",
    "    yaxis_title='Of survey respondents (%)',\n",
    "    yaxis=dict(tickformat = \"%\"),\n",
    "    xaxis_title=None,\n",
    "    # change fonts\n",
    "    font=dict(family=\"Arial\", size=16),\n",
    "    # autosize makes the chart 'responsive' (https://en.wikipedia.org/wiki/Responsive_web_design)\n",
    "    autosize=True,\n",
    "    margin=dict(\n",
    "        l=50,\n",
    "        r=50,\n",
    "        b=50,\n",
    "        t=50,\n",
    "        pad=4,\n",
    "        autoexpand=True\n",
    "        ),\n",
    "    ## options for the hover-over text\n",
    "    # changes how the hover-over box is displayed\n",
    "    hovermode=\"x unified\",\n",
    "    # hoverlabel_align = 'right',\n",
    "    # changes the hover-over box formatting\n",
    "    hoverlabel=dict(\n",
    "        bgcolor=\"white\",\n",
    "        font_size=16,\n",
    "        font_family=\"Arial\"\n",
    "    ),\n",
    "    legend=dict(\n",
    "    orientation=\"h\",\n",
    "    yanchor=\"bottom\",\n",
    "    y=1.02,\n",
    "    xanchor=\"right\",\n",
    "    x=1\n",
    "    )\n",
    ")\n",
    "\n",
    "# options to change how the bars look\n",
    "fig.update_traces(\n",
    "    # this also changes the hover-over box formatting\n",
    "    hovertemplate='<b>%{fullData.name}</b>: %{text:.1%}<extra></extra>',\n",
    "    # outline of bars\n",
    "    marker_line_color = 'rgb(8,48,107)',\n",
    "    marker_line_width=1.5,\n",
    "    opacity=1,\n",
    "    # options for text inside bars\n",
    "    texttemplate='%{text:.1%}',\n",
    "    textposition='inside'\n",
    ")\n",
    "fig.update_xaxes(type='category')\n",
    "fig.show()"
   ],
   "outputs": [
    {
     "output_type": "display_data",
     "data": {
      "application/vnd.plotly.v1+json": {
       "config": {
        "plotlyServerURL": "https://plot.ly"
       },
       "data": [
        {
         "alignmentgroup": "True",
         "hovertemplate": "<b>%{fullData.name}</b>: %{text:.1%}<extra></extra>",
         "legendgroup": "Face-to-face",
         "marker": {
          "color": "#00A499",
          "line": {
           "color": "rgb(8,48,107)",
           "width": 1.5
          }
         },
         "name": "Face-to-face",
         "offsetgroup": "Face-to-face",
         "opacity": 1,
         "orientation": "v",
         "showlegend": true,
         "text": [
          0.9067713785432229,
          0.9043122796017898,
          0.9003372464045768,
          0.5052685673226037
         ],
         "textposition": "inside",
         "texttemplate": "%{text:.1%}",
         "type": "bar",
         "x": [
          "Q1 2018",
          "Q1 2019",
          "Q1 2020",
          "Q1 2021"
         ],
         "xaxis": "x",
         "y": [
          0.9067713785432229,
          0.9043122796017898,
          0.9003372464045768,
          0.5052685673226037
         ],
         "yaxis": "y"
        },
        {
         "alignmentgroup": "True",
         "hovertemplate": "<b>%{fullData.name}</b>: %{text:.1%}<extra></extra>",
         "legendgroup": "Remote",
         "marker": {
          "color": "#FFB81C",
          "line": {
           "color": "rgb(8,48,107)",
           "width": 1.5
          }
         },
         "name": "Remote",
         "offsetgroup": "Remote",
         "opacity": 1,
         "orientation": "v",
         "showlegend": true,
         "text": [
          0.09322862145677714,
          0.09568772039821015,
          0.09966275359542323,
          0.49473143267739633
         ],
         "textposition": "inside",
         "texttemplate": "%{text:.1%}",
         "type": "bar",
         "x": [
          "Q1 2018",
          "Q1 2019",
          "Q1 2020",
          "Q1 2021"
         ],
         "xaxis": "x",
         "y": [
          0.09322862145677714,
          0.09568772039821015,
          0.09966275359542323,
          0.49473143267739633
         ],
         "yaxis": "y"
        }
       ],
       "layout": {
        "autosize": true,
        "barmode": "stack",
        "font": {
         "family": "Arial",
         "size": 16
        },
        "height": 350,
        "hoverlabel": {
         "bgcolor": "white",
         "font": {
          "family": "Arial",
          "size": 16
         }
        },
        "hovermode": "x unified",
        "legend": {
         "orientation": "h",
         "title": {
          "text": "Appointment Type"
         },
         "tracegroupgap": 0,
         "x": 1,
         "xanchor": "right",
         "y": 1.02,
         "yanchor": "bottom"
        },
        "margin": {
         "autoexpand": true,
         "b": 50,
         "l": 50,
         "pad": 4,
         "r": 50,
         "t": 50
        },
        "paper_bgcolor": "rgba(0, 0, 0, 0)",
        "plot_bgcolor": "rgba(0, 0, 0, 0)",
        "template": {
         "data": {
          "bar": [
           {
            "error_x": {
             "color": "#2a3f5f"
            },
            "error_y": {
             "color": "#2a3f5f"
            },
            "marker": {
             "line": {
              "color": "#E5ECF6",
              "width": 0.5
             }
            },
            "type": "bar"
           }
          ],
          "barpolar": [
           {
            "marker": {
             "line": {
              "color": "#E5ECF6",
              "width": 0.5
             }
            },
            "type": "barpolar"
           }
          ],
          "carpet": [
           {
            "aaxis": {
             "endlinecolor": "#2a3f5f",
             "gridcolor": "white",
             "linecolor": "white",
             "minorgridcolor": "white",
             "startlinecolor": "#2a3f5f"
            },
            "baxis": {
             "endlinecolor": "#2a3f5f",
             "gridcolor": "white",
             "linecolor": "white",
             "minorgridcolor": "white",
             "startlinecolor": "#2a3f5f"
            },
            "type": "carpet"
           }
          ],
          "choropleth": [
           {
            "colorbar": {
             "outlinewidth": 0,
             "ticks": ""
            },
            "type": "choropleth"
           }
          ],
          "contour": [
           {
            "colorbar": {
             "outlinewidth": 0,
             "ticks": ""
            },
            "colorscale": [
             [
              0,
              "#0d0887"
             ],
             [
              0.1111111111111111,
              "#46039f"
             ],
             [
              0.2222222222222222,
              "#7201a8"
             ],
             [
              0.3333333333333333,
              "#9c179e"
             ],
             [
              0.4444444444444444,
              "#bd3786"
             ],
             [
              0.5555555555555556,
              "#d8576b"
             ],
             [
              0.6666666666666666,
              "#ed7953"
             ],
             [
              0.7777777777777778,
              "#fb9f3a"
             ],
             [
              0.8888888888888888,
              "#fdca26"
             ],
             [
              1,
              "#f0f921"
             ]
            ],
            "type": "contour"
           }
          ],
          "contourcarpet": [
           {
            "colorbar": {
             "outlinewidth": 0,
             "ticks": ""
            },
            "type": "contourcarpet"
           }
          ],
          "heatmap": [
           {
            "colorbar": {
             "outlinewidth": 0,
             "ticks": ""
            },
            "colorscale": [
             [
              0,
              "#0d0887"
             ],
             [
              0.1111111111111111,
              "#46039f"
             ],
             [
              0.2222222222222222,
              "#7201a8"
             ],
             [
              0.3333333333333333,
              "#9c179e"
             ],
             [
              0.4444444444444444,
              "#bd3786"
             ],
             [
              0.5555555555555556,
              "#d8576b"
             ],
             [
              0.6666666666666666,
              "#ed7953"
             ],
             [
              0.7777777777777778,
              "#fb9f3a"
             ],
             [
              0.8888888888888888,
              "#fdca26"
             ],
             [
              1,
              "#f0f921"
             ]
            ],
            "type": "heatmap"
           }
          ],
          "heatmapgl": [
           {
            "colorbar": {
             "outlinewidth": 0,
             "ticks": ""
            },
            "colorscale": [
             [
              0,
              "#0d0887"
             ],
             [
              0.1111111111111111,
              "#46039f"
             ],
             [
              0.2222222222222222,
              "#7201a8"
             ],
             [
              0.3333333333333333,
              "#9c179e"
             ],
             [
              0.4444444444444444,
              "#bd3786"
             ],
             [
              0.5555555555555556,
              "#d8576b"
             ],
             [
              0.6666666666666666,
              "#ed7953"
             ],
             [
              0.7777777777777778,
              "#fb9f3a"
             ],
             [
              0.8888888888888888,
              "#fdca26"
             ],
             [
              1,
              "#f0f921"
             ]
            ],
            "type": "heatmapgl"
           }
          ],
          "histogram": [
           {
            "marker": {
             "colorbar": {
              "outlinewidth": 0,
              "ticks": ""
             }
            },
            "type": "histogram"
           }
          ],
          "histogram2d": [
           {
            "colorbar": {
             "outlinewidth": 0,
             "ticks": ""
            },
            "colorscale": [
             [
              0,
              "#0d0887"
             ],
             [
              0.1111111111111111,
              "#46039f"
             ],
             [
              0.2222222222222222,
              "#7201a8"
             ],
             [
              0.3333333333333333,
              "#9c179e"
             ],
             [
              0.4444444444444444,
              "#bd3786"
             ],
             [
              0.5555555555555556,
              "#d8576b"
             ],
             [
              0.6666666666666666,
              "#ed7953"
             ],
             [
              0.7777777777777778,
              "#fb9f3a"
             ],
             [
              0.8888888888888888,
              "#fdca26"
             ],
             [
              1,
              "#f0f921"
             ]
            ],
            "type": "histogram2d"
           }
          ],
          "histogram2dcontour": [
           {
            "colorbar": {
             "outlinewidth": 0,
             "ticks": ""
            },
            "colorscale": [
             [
              0,
              "#0d0887"
             ],
             [
              0.1111111111111111,
              "#46039f"
             ],
             [
              0.2222222222222222,
              "#7201a8"
             ],
             [
              0.3333333333333333,
              "#9c179e"
             ],
             [
              0.4444444444444444,
              "#bd3786"
             ],
             [
              0.5555555555555556,
              "#d8576b"
             ],
             [
              0.6666666666666666,
              "#ed7953"
             ],
             [
              0.7777777777777778,
              "#fb9f3a"
             ],
             [
              0.8888888888888888,
              "#fdca26"
             ],
             [
              1,
              "#f0f921"
             ]
            ],
            "type": "histogram2dcontour"
           }
          ],
          "mesh3d": [
           {
            "colorbar": {
             "outlinewidth": 0,
             "ticks": ""
            },
            "type": "mesh3d"
           }
          ],
          "parcoords": [
           {
            "line": {
             "colorbar": {
              "outlinewidth": 0,
              "ticks": ""
             }
            },
            "type": "parcoords"
           }
          ],
          "pie": [
           {
            "automargin": true,
            "type": "pie"
           }
          ],
          "scatter": [
           {
            "marker": {
             "colorbar": {
              "outlinewidth": 0,
              "ticks": ""
             }
            },
            "type": "scatter"
           }
          ],
          "scatter3d": [
           {
            "line": {
             "colorbar": {
              "outlinewidth": 0,
              "ticks": ""
             }
            },
            "marker": {
             "colorbar": {
              "outlinewidth": 0,
              "ticks": ""
             }
            },
            "type": "scatter3d"
           }
          ],
          "scattercarpet": [
           {
            "marker": {
             "colorbar": {
              "outlinewidth": 0,
              "ticks": ""
             }
            },
            "type": "scattercarpet"
           }
          ],
          "scattergeo": [
           {
            "marker": {
             "colorbar": {
              "outlinewidth": 0,
              "ticks": ""
             }
            },
            "type": "scattergeo"
           }
          ],
          "scattergl": [
           {
            "marker": {
             "colorbar": {
              "outlinewidth": 0,
              "ticks": ""
             }
            },
            "type": "scattergl"
           }
          ],
          "scattermapbox": [
           {
            "marker": {
             "colorbar": {
              "outlinewidth": 0,
              "ticks": ""
             }
            },
            "type": "scattermapbox"
           }
          ],
          "scatterpolar": [
           {
            "marker": {
             "colorbar": {
              "outlinewidth": 0,
              "ticks": ""
             }
            },
            "type": "scatterpolar"
           }
          ],
          "scatterpolargl": [
           {
            "marker": {
             "colorbar": {
              "outlinewidth": 0,
              "ticks": ""
             }
            },
            "type": "scatterpolargl"
           }
          ],
          "scatterternary": [
           {
            "marker": {
             "colorbar": {
              "outlinewidth": 0,
              "ticks": ""
             }
            },
            "type": "scatterternary"
           }
          ],
          "surface": [
           {
            "colorbar": {
             "outlinewidth": 0,
             "ticks": ""
            },
            "colorscale": [
             [
              0,
              "#0d0887"
             ],
             [
              0.1111111111111111,
              "#46039f"
             ],
             [
              0.2222222222222222,
              "#7201a8"
             ],
             [
              0.3333333333333333,
              "#9c179e"
             ],
             [
              0.4444444444444444,
              "#bd3786"
             ],
             [
              0.5555555555555556,
              "#d8576b"
             ],
             [
              0.6666666666666666,
              "#ed7953"
             ],
             [
              0.7777777777777778,
              "#fb9f3a"
             ],
             [
              0.8888888888888888,
              "#fdca26"
             ],
             [
              1,
              "#f0f921"
             ]
            ],
            "type": "surface"
           }
          ],
          "table": [
           {
            "cells": {
             "fill": {
              "color": "#EBF0F8"
             },
             "line": {
              "color": "white"
             }
            },
            "header": {
             "fill": {
              "color": "#C8D4E3"
             },
             "line": {
              "color": "white"
             }
            },
            "type": "table"
           }
          ]
         },
         "layout": {
          "annotationdefaults": {
           "arrowcolor": "#2a3f5f",
           "arrowhead": 0,
           "arrowwidth": 1
          },
          "autotypenumbers": "strict",
          "coloraxis": {
           "colorbar": {
            "outlinewidth": 0,
            "ticks": ""
           }
          },
          "colorscale": {
           "diverging": [
            [
             0,
             "#8e0152"
            ],
            [
             0.1,
             "#c51b7d"
            ],
            [
             0.2,
             "#de77ae"
            ],
            [
             0.3,
             "#f1b6da"
            ],
            [
             0.4,
             "#fde0ef"
            ],
            [
             0.5,
             "#f7f7f7"
            ],
            [
             0.6,
             "#e6f5d0"
            ],
            [
             0.7,
             "#b8e186"
            ],
            [
             0.8,
             "#7fbc41"
            ],
            [
             0.9,
             "#4d9221"
            ],
            [
             1,
             "#276419"
            ]
           ],
           "sequential": [
            [
             0,
             "#0d0887"
            ],
            [
             0.1111111111111111,
             "#46039f"
            ],
            [
             0.2222222222222222,
             "#7201a8"
            ],
            [
             0.3333333333333333,
             "#9c179e"
            ],
            [
             0.4444444444444444,
             "#bd3786"
            ],
            [
             0.5555555555555556,
             "#d8576b"
            ],
            [
             0.6666666666666666,
             "#ed7953"
            ],
            [
             0.7777777777777778,
             "#fb9f3a"
            ],
            [
             0.8888888888888888,
             "#fdca26"
            ],
            [
             1,
             "#f0f921"
            ]
           ],
           "sequentialminus": [
            [
             0,
             "#0d0887"
            ],
            [
             0.1111111111111111,
             "#46039f"
            ],
            [
             0.2222222222222222,
             "#7201a8"
            ],
            [
             0.3333333333333333,
             "#9c179e"
            ],
            [
             0.4444444444444444,
             "#bd3786"
            ],
            [
             0.5555555555555556,
             "#d8576b"
            ],
            [
             0.6666666666666666,
             "#ed7953"
            ],
            [
             0.7777777777777778,
             "#fb9f3a"
            ],
            [
             0.8888888888888888,
             "#fdca26"
            ],
            [
             1,
             "#f0f921"
            ]
           ]
          },
          "colorway": [
           "#636efa",
           "#EF553B",
           "#00cc96",
           "#ab63fa",
           "#FFA15A",
           "#19d3f3",
           "#FF6692",
           "#B6E880",
           "#FF97FF",
           "#FECB52"
          ],
          "font": {
           "color": "#2a3f5f"
          },
          "geo": {
           "bgcolor": "white",
           "lakecolor": "white",
           "landcolor": "#E5ECF6",
           "showlakes": true,
           "showland": true,
           "subunitcolor": "white"
          },
          "hoverlabel": {
           "align": "left"
          },
          "hovermode": "closest",
          "mapbox": {
           "style": "light"
          },
          "paper_bgcolor": "white",
          "plot_bgcolor": "#E5ECF6",
          "polar": {
           "angularaxis": {
            "gridcolor": "white",
            "linecolor": "white",
            "ticks": ""
           },
           "bgcolor": "#E5ECF6",
           "radialaxis": {
            "gridcolor": "white",
            "linecolor": "white",
            "ticks": ""
           }
          },
          "scene": {
           "xaxis": {
            "backgroundcolor": "#E5ECF6",
            "gridcolor": "white",
            "gridwidth": 2,
            "linecolor": "white",
            "showbackground": true,
            "ticks": "",
            "zerolinecolor": "white"
           },
           "yaxis": {
            "backgroundcolor": "#E5ECF6",
            "gridcolor": "white",
            "gridwidth": 2,
            "linecolor": "white",
            "showbackground": true,
            "ticks": "",
            "zerolinecolor": "white"
           },
           "zaxis": {
            "backgroundcolor": "#E5ECF6",
            "gridcolor": "white",
            "gridwidth": 2,
            "linecolor": "white",
            "showbackground": true,
            "ticks": "",
            "zerolinecolor": "white"
           }
          },
          "shapedefaults": {
           "line": {
            "color": "#2a3f5f"
           }
          },
          "ternary": {
           "aaxis": {
            "gridcolor": "white",
            "linecolor": "white",
            "ticks": ""
           },
           "baxis": {
            "gridcolor": "white",
            "linecolor": "white",
            "ticks": ""
           },
           "bgcolor": "#E5ECF6",
           "caxis": {
            "gridcolor": "white",
            "linecolor": "white",
            "ticks": ""
           }
          },
          "title": {
           "x": 0.05
          },
          "xaxis": {
           "automargin": true,
           "gridcolor": "white",
           "linecolor": "white",
           "ticks": "",
           "title": {
            "standoff": 15
           },
           "zerolinecolor": "white",
           "zerolinewidth": 2
          },
          "yaxis": {
           "automargin": true,
           "gridcolor": "white",
           "linecolor": "white",
           "ticks": "",
           "title": {
            "standoff": 15
           },
           "zerolinecolor": "white",
           "zerolinewidth": 2
          }
         }
        },
        "xaxis": {
         "anchor": "y",
         "domain": [
          0,
          1
         ],
         "title": {},
         "type": "category"
        },
        "yaxis": {
         "anchor": "x",
         "domain": [
          0,
          1
         ],
         "tickformat": "%",
         "title": {
          "text": "Of survey respondents (%)"
         }
        }
       }
      }
     },
     "metadata": {}
    }
   ],
   "metadata": {}
  },
  {
   "cell_type": "code",
   "execution_count": 162,
   "source": [
    "# Write chart to file (.html)\n",
    "config = {\"displayModeBar\": False, \"displaylogo\": False}\n",
    "plotly_obj = plotly.offline.plot(\n",
    "    fig, include_plotlyjs=False, output_type=\"div\", config=config\n",
    ")\n",
    "with open(\"_includes/remote_appts.html\", \"w\") as file:\n",
    "    file.write(plotly_obj)\n",
    "\n",
    "html_str = '<b>Figure 1.</b> Proportion of appointment types betweeen survey respondents, where Remote includes both Telephone and Online appointments. Source: GP Patient Survey 2021.'"
   ],
   "outputs": [],
   "metadata": {}
  },
  {
   "cell_type": "code",
   "execution_count": 163,
   "source": [
    "## how did you try to book an appointment?\n",
    "how_try_book_appointment = pd.read_csv(r'data/how_book_appointment.csv', sep=',', header=0)\n",
    "how_try_book_appointment = how_try_book_appointment.rename(columns={\n",
    "    \"type\": \"Booking Type\",\n",
    "    'National_N': \"Count\"})\n",
    "\n",
    "# create a dict of appointments and there coresponding type\n",
    "grouptype = {\n",
    "    'In person': 'In person',\n",
    "    'By phone, through my practice': 'Telephone',\n",
    "    'By automated telephone booking': 'Telephone',\n",
    "    'Online, including on a website or through an app': 'Online'\n",
    "    }\n",
    "# make a new col that maps the groups to the appointments\n",
    "how_try_book_appointment['Group Type'] = how_try_book_appointment['Booking Type'].map(grouptype)\n",
    "\n",
    "# now we can groupby type and sum the yearly counts\n",
    "how_try_book_appointment_group = how_try_book_appointment.groupby('Group Type').sum().reset_index()\n",
    "\n",
    "# sum series to get total count\n",
    "how_try_book_appointmen_total = how_try_book_appointment_group.sum(axis=0).values[1]\n",
    "\n",
    "# calculate percentages\n",
    "how_try_book_appointment_group['Percent'] = how_try_book_appointment_group['Count']/how_try_book_appointmen_total\n",
    "how_try_book_appointment_group\n"
   ],
   "outputs": [
    {
     "output_type": "execute_result",
     "data": {
      "text/plain": [
       "  Group Type   Count   Percent\n",
       "0  In person   65700  0.076663\n",
       "1     Online  105510  0.123116\n",
       "2  Telephone  685789  0.800221"
      ],
      "text/html": [
       "<div>\n",
       "<style scoped>\n",
       "    .dataframe tbody tr th:only-of-type {\n",
       "        vertical-align: middle;\n",
       "    }\n",
       "\n",
       "    .dataframe tbody tr th {\n",
       "        vertical-align: top;\n",
       "    }\n",
       "\n",
       "    .dataframe thead th {\n",
       "        text-align: right;\n",
       "    }\n",
       "</style>\n",
       "<table border=\"1\" class=\"dataframe\">\n",
       "  <thead>\n",
       "    <tr style=\"text-align: right;\">\n",
       "      <th></th>\n",
       "      <th>Group Type</th>\n",
       "      <th>Count</th>\n",
       "      <th>Percent</th>\n",
       "    </tr>\n",
       "  </thead>\n",
       "  <tbody>\n",
       "    <tr>\n",
       "      <th>0</th>\n",
       "      <td>In person</td>\n",
       "      <td>65700</td>\n",
       "      <td>0.076663</td>\n",
       "    </tr>\n",
       "    <tr>\n",
       "      <th>1</th>\n",
       "      <td>Online</td>\n",
       "      <td>105510</td>\n",
       "      <td>0.123116</td>\n",
       "    </tr>\n",
       "    <tr>\n",
       "      <th>2</th>\n",
       "      <td>Telephone</td>\n",
       "      <td>685789</td>\n",
       "      <td>0.800221</td>\n",
       "    </tr>\n",
       "  </tbody>\n",
       "</table>\n",
       "</div>"
      ]
     },
     "metadata": {},
     "execution_count": 163
    }
   ],
   "metadata": {}
  },
  {
   "cell_type": "code",
   "execution_count": 164,
   "source": [
    "fig = px.pie(how_try_book_appointment_group, color_discrete_sequence=nhs_colours, values='Percent', names='Group Type')\n",
    "\n",
    "# Asthetics of the plot\n",
    "fig.update_layout(\n",
    "    # change background colour \n",
    "    {\"plot_bgcolor\": \"rgba(0, 0, 0, 0)\", \"paper_bgcolor\": \"rgba(0, 0, 0, 0)\"},\n",
    "    # change fonts\n",
    "    font=dict(family=\"Arial\", size=16),\n",
    "    # autosize makes the chart 'responsive' (https://en.wikipedia.org/wiki/Responsive_web_design)\n",
    "    autosize=True,\n",
    "    margin=dict(\n",
    "        l=50,\n",
    "        r=50,\n",
    "        b=50,\n",
    "        t=50,\n",
    "        pad=4,\n",
    "        autoexpand=True\n",
    "        ),\n",
    "    ## options for the hover-over text\n",
    "    # changes how the hover-over box is displayed\n",
    "    # hoverlabel_align = 'right',\n",
    "    # changes the hover-over box formatting\n",
    "    hoverlabel=dict(\n",
    "        bgcolor=\"white\",\n",
    "        font_size=16,\n",
    "        font_family=\"Arial\"\n",
    "    ),\n",
    "    legend=dict(\n",
    "    orientation=\"h\",\n",
    "    yanchor=\"bottom\",\n",
    "    y=1.02,\n",
    "    xanchor=\"right\",\n",
    "    x=1\n",
    "    )\n",
    ")\n",
    "# options to change how the bars look\n",
    "fig.update_traces(\n",
    "    # this also changes the hover-over box formatting\n",
    "    hovertemplate='<b>%{label}</b>: %{value:.1%}',\n",
    "    # outline of bars\n",
    "    marker_line_color = 'rgb(8,48,107)',\n",
    "    marker_line_width=1.5,\n",
    "    opacity=1,\n",
    "    # options for text inside bars\n",
    "    textposition='inside'\n",
    ")\n",
    "\n",
    "\n",
    "fig.show()"
   ],
   "outputs": [
    {
     "output_type": "display_data",
     "data": {
      "application/vnd.plotly.v1+json": {
       "config": {
        "plotlyServerURL": "https://plot.ly"
       },
       "data": [
        {
         "domain": {
          "x": [
           0,
           1
          ],
          "y": [
           0,
           1
          ]
         },
         "hovertemplate": "<b>%{label}</b>: %{value:.1%}",
         "labels": [
          "In person",
          "Online",
          "Telephone"
         ],
         "legendgroup": "",
         "marker": {
          "line": {
           "color": "rgb(8,48,107)",
           "width": 1.5
          }
         },
         "name": "",
         "opacity": 1,
         "showlegend": true,
         "textposition": "inside",
         "type": "pie",
         "values": [
          0.07666286658444176,
          0.12311566291209208,
          0.8002214705034661
         ]
        }
       ],
       "layout": {
        "autosize": true,
        "font": {
         "family": "Arial",
         "size": 16
        },
        "hoverlabel": {
         "bgcolor": "white",
         "font": {
          "family": "Arial",
          "size": 16
         }
        },
        "legend": {
         "orientation": "h",
         "tracegroupgap": 0,
         "x": 1,
         "xanchor": "right",
         "y": 1.02,
         "yanchor": "bottom"
        },
        "margin": {
         "autoexpand": true,
         "b": 50,
         "l": 50,
         "pad": 4,
         "r": 50,
         "t": 50
        },
        "paper_bgcolor": "rgba(0, 0, 0, 0)",
        "piecolorway": [
         "#00A499",
         "#FFB81C",
         "#7C2855"
        ],
        "plot_bgcolor": "rgba(0, 0, 0, 0)",
        "template": {
         "data": {
          "bar": [
           {
            "error_x": {
             "color": "#2a3f5f"
            },
            "error_y": {
             "color": "#2a3f5f"
            },
            "marker": {
             "line": {
              "color": "#E5ECF6",
              "width": 0.5
             }
            },
            "type": "bar"
           }
          ],
          "barpolar": [
           {
            "marker": {
             "line": {
              "color": "#E5ECF6",
              "width": 0.5
             }
            },
            "type": "barpolar"
           }
          ],
          "carpet": [
           {
            "aaxis": {
             "endlinecolor": "#2a3f5f",
             "gridcolor": "white",
             "linecolor": "white",
             "minorgridcolor": "white",
             "startlinecolor": "#2a3f5f"
            },
            "baxis": {
             "endlinecolor": "#2a3f5f",
             "gridcolor": "white",
             "linecolor": "white",
             "minorgridcolor": "white",
             "startlinecolor": "#2a3f5f"
            },
            "type": "carpet"
           }
          ],
          "choropleth": [
           {
            "colorbar": {
             "outlinewidth": 0,
             "ticks": ""
            },
            "type": "choropleth"
           }
          ],
          "contour": [
           {
            "colorbar": {
             "outlinewidth": 0,
             "ticks": ""
            },
            "colorscale": [
             [
              0,
              "#0d0887"
             ],
             [
              0.1111111111111111,
              "#46039f"
             ],
             [
              0.2222222222222222,
              "#7201a8"
             ],
             [
              0.3333333333333333,
              "#9c179e"
             ],
             [
              0.4444444444444444,
              "#bd3786"
             ],
             [
              0.5555555555555556,
              "#d8576b"
             ],
             [
              0.6666666666666666,
              "#ed7953"
             ],
             [
              0.7777777777777778,
              "#fb9f3a"
             ],
             [
              0.8888888888888888,
              "#fdca26"
             ],
             [
              1,
              "#f0f921"
             ]
            ],
            "type": "contour"
           }
          ],
          "contourcarpet": [
           {
            "colorbar": {
             "outlinewidth": 0,
             "ticks": ""
            },
            "type": "contourcarpet"
           }
          ],
          "heatmap": [
           {
            "colorbar": {
             "outlinewidth": 0,
             "ticks": ""
            },
            "colorscale": [
             [
              0,
              "#0d0887"
             ],
             [
              0.1111111111111111,
              "#46039f"
             ],
             [
              0.2222222222222222,
              "#7201a8"
             ],
             [
              0.3333333333333333,
              "#9c179e"
             ],
             [
              0.4444444444444444,
              "#bd3786"
             ],
             [
              0.5555555555555556,
              "#d8576b"
             ],
             [
              0.6666666666666666,
              "#ed7953"
             ],
             [
              0.7777777777777778,
              "#fb9f3a"
             ],
             [
              0.8888888888888888,
              "#fdca26"
             ],
             [
              1,
              "#f0f921"
             ]
            ],
            "type": "heatmap"
           }
          ],
          "heatmapgl": [
           {
            "colorbar": {
             "outlinewidth": 0,
             "ticks": ""
            },
            "colorscale": [
             [
              0,
              "#0d0887"
             ],
             [
              0.1111111111111111,
              "#46039f"
             ],
             [
              0.2222222222222222,
              "#7201a8"
             ],
             [
              0.3333333333333333,
              "#9c179e"
             ],
             [
              0.4444444444444444,
              "#bd3786"
             ],
             [
              0.5555555555555556,
              "#d8576b"
             ],
             [
              0.6666666666666666,
              "#ed7953"
             ],
             [
              0.7777777777777778,
              "#fb9f3a"
             ],
             [
              0.8888888888888888,
              "#fdca26"
             ],
             [
              1,
              "#f0f921"
             ]
            ],
            "type": "heatmapgl"
           }
          ],
          "histogram": [
           {
            "marker": {
             "colorbar": {
              "outlinewidth": 0,
              "ticks": ""
             }
            },
            "type": "histogram"
           }
          ],
          "histogram2d": [
           {
            "colorbar": {
             "outlinewidth": 0,
             "ticks": ""
            },
            "colorscale": [
             [
              0,
              "#0d0887"
             ],
             [
              0.1111111111111111,
              "#46039f"
             ],
             [
              0.2222222222222222,
              "#7201a8"
             ],
             [
              0.3333333333333333,
              "#9c179e"
             ],
             [
              0.4444444444444444,
              "#bd3786"
             ],
             [
              0.5555555555555556,
              "#d8576b"
             ],
             [
              0.6666666666666666,
              "#ed7953"
             ],
             [
              0.7777777777777778,
              "#fb9f3a"
             ],
             [
              0.8888888888888888,
              "#fdca26"
             ],
             [
              1,
              "#f0f921"
             ]
            ],
            "type": "histogram2d"
           }
          ],
          "histogram2dcontour": [
           {
            "colorbar": {
             "outlinewidth": 0,
             "ticks": ""
            },
            "colorscale": [
             [
              0,
              "#0d0887"
             ],
             [
              0.1111111111111111,
              "#46039f"
             ],
             [
              0.2222222222222222,
              "#7201a8"
             ],
             [
              0.3333333333333333,
              "#9c179e"
             ],
             [
              0.4444444444444444,
              "#bd3786"
             ],
             [
              0.5555555555555556,
              "#d8576b"
             ],
             [
              0.6666666666666666,
              "#ed7953"
             ],
             [
              0.7777777777777778,
              "#fb9f3a"
             ],
             [
              0.8888888888888888,
              "#fdca26"
             ],
             [
              1,
              "#f0f921"
             ]
            ],
            "type": "histogram2dcontour"
           }
          ],
          "mesh3d": [
           {
            "colorbar": {
             "outlinewidth": 0,
             "ticks": ""
            },
            "type": "mesh3d"
           }
          ],
          "parcoords": [
           {
            "line": {
             "colorbar": {
              "outlinewidth": 0,
              "ticks": ""
             }
            },
            "type": "parcoords"
           }
          ],
          "pie": [
           {
            "automargin": true,
            "type": "pie"
           }
          ],
          "scatter": [
           {
            "marker": {
             "colorbar": {
              "outlinewidth": 0,
              "ticks": ""
             }
            },
            "type": "scatter"
           }
          ],
          "scatter3d": [
           {
            "line": {
             "colorbar": {
              "outlinewidth": 0,
              "ticks": ""
             }
            },
            "marker": {
             "colorbar": {
              "outlinewidth": 0,
              "ticks": ""
             }
            },
            "type": "scatter3d"
           }
          ],
          "scattercarpet": [
           {
            "marker": {
             "colorbar": {
              "outlinewidth": 0,
              "ticks": ""
             }
            },
            "type": "scattercarpet"
           }
          ],
          "scattergeo": [
           {
            "marker": {
             "colorbar": {
              "outlinewidth": 0,
              "ticks": ""
             }
            },
            "type": "scattergeo"
           }
          ],
          "scattergl": [
           {
            "marker": {
             "colorbar": {
              "outlinewidth": 0,
              "ticks": ""
             }
            },
            "type": "scattergl"
           }
          ],
          "scattermapbox": [
           {
            "marker": {
             "colorbar": {
              "outlinewidth": 0,
              "ticks": ""
             }
            },
            "type": "scattermapbox"
           }
          ],
          "scatterpolar": [
           {
            "marker": {
             "colorbar": {
              "outlinewidth": 0,
              "ticks": ""
             }
            },
            "type": "scatterpolar"
           }
          ],
          "scatterpolargl": [
           {
            "marker": {
             "colorbar": {
              "outlinewidth": 0,
              "ticks": ""
             }
            },
            "type": "scatterpolargl"
           }
          ],
          "scatterternary": [
           {
            "marker": {
             "colorbar": {
              "outlinewidth": 0,
              "ticks": ""
             }
            },
            "type": "scatterternary"
           }
          ],
          "surface": [
           {
            "colorbar": {
             "outlinewidth": 0,
             "ticks": ""
            },
            "colorscale": [
             [
              0,
              "#0d0887"
             ],
             [
              0.1111111111111111,
              "#46039f"
             ],
             [
              0.2222222222222222,
              "#7201a8"
             ],
             [
              0.3333333333333333,
              "#9c179e"
             ],
             [
              0.4444444444444444,
              "#bd3786"
             ],
             [
              0.5555555555555556,
              "#d8576b"
             ],
             [
              0.6666666666666666,
              "#ed7953"
             ],
             [
              0.7777777777777778,
              "#fb9f3a"
             ],
             [
              0.8888888888888888,
              "#fdca26"
             ],
             [
              1,
              "#f0f921"
             ]
            ],
            "type": "surface"
           }
          ],
          "table": [
           {
            "cells": {
             "fill": {
              "color": "#EBF0F8"
             },
             "line": {
              "color": "white"
             }
            },
            "header": {
             "fill": {
              "color": "#C8D4E3"
             },
             "line": {
              "color": "white"
             }
            },
            "type": "table"
           }
          ]
         },
         "layout": {
          "annotationdefaults": {
           "arrowcolor": "#2a3f5f",
           "arrowhead": 0,
           "arrowwidth": 1
          },
          "autotypenumbers": "strict",
          "coloraxis": {
           "colorbar": {
            "outlinewidth": 0,
            "ticks": ""
           }
          },
          "colorscale": {
           "diverging": [
            [
             0,
             "#8e0152"
            ],
            [
             0.1,
             "#c51b7d"
            ],
            [
             0.2,
             "#de77ae"
            ],
            [
             0.3,
             "#f1b6da"
            ],
            [
             0.4,
             "#fde0ef"
            ],
            [
             0.5,
             "#f7f7f7"
            ],
            [
             0.6,
             "#e6f5d0"
            ],
            [
             0.7,
             "#b8e186"
            ],
            [
             0.8,
             "#7fbc41"
            ],
            [
             0.9,
             "#4d9221"
            ],
            [
             1,
             "#276419"
            ]
           ],
           "sequential": [
            [
             0,
             "#0d0887"
            ],
            [
             0.1111111111111111,
             "#46039f"
            ],
            [
             0.2222222222222222,
             "#7201a8"
            ],
            [
             0.3333333333333333,
             "#9c179e"
            ],
            [
             0.4444444444444444,
             "#bd3786"
            ],
            [
             0.5555555555555556,
             "#d8576b"
            ],
            [
             0.6666666666666666,
             "#ed7953"
            ],
            [
             0.7777777777777778,
             "#fb9f3a"
            ],
            [
             0.8888888888888888,
             "#fdca26"
            ],
            [
             1,
             "#f0f921"
            ]
           ],
           "sequentialminus": [
            [
             0,
             "#0d0887"
            ],
            [
             0.1111111111111111,
             "#46039f"
            ],
            [
             0.2222222222222222,
             "#7201a8"
            ],
            [
             0.3333333333333333,
             "#9c179e"
            ],
            [
             0.4444444444444444,
             "#bd3786"
            ],
            [
             0.5555555555555556,
             "#d8576b"
            ],
            [
             0.6666666666666666,
             "#ed7953"
            ],
            [
             0.7777777777777778,
             "#fb9f3a"
            ],
            [
             0.8888888888888888,
             "#fdca26"
            ],
            [
             1,
             "#f0f921"
            ]
           ]
          },
          "colorway": [
           "#636efa",
           "#EF553B",
           "#00cc96",
           "#ab63fa",
           "#FFA15A",
           "#19d3f3",
           "#FF6692",
           "#B6E880",
           "#FF97FF",
           "#FECB52"
          ],
          "font": {
           "color": "#2a3f5f"
          },
          "geo": {
           "bgcolor": "white",
           "lakecolor": "white",
           "landcolor": "#E5ECF6",
           "showlakes": true,
           "showland": true,
           "subunitcolor": "white"
          },
          "hoverlabel": {
           "align": "left"
          },
          "hovermode": "closest",
          "mapbox": {
           "style": "light"
          },
          "paper_bgcolor": "white",
          "plot_bgcolor": "#E5ECF6",
          "polar": {
           "angularaxis": {
            "gridcolor": "white",
            "linecolor": "white",
            "ticks": ""
           },
           "bgcolor": "#E5ECF6",
           "radialaxis": {
            "gridcolor": "white",
            "linecolor": "white",
            "ticks": ""
           }
          },
          "scene": {
           "xaxis": {
            "backgroundcolor": "#E5ECF6",
            "gridcolor": "white",
            "gridwidth": 2,
            "linecolor": "white",
            "showbackground": true,
            "ticks": "",
            "zerolinecolor": "white"
           },
           "yaxis": {
            "backgroundcolor": "#E5ECF6",
            "gridcolor": "white",
            "gridwidth": 2,
            "linecolor": "white",
            "showbackground": true,
            "ticks": "",
            "zerolinecolor": "white"
           },
           "zaxis": {
            "backgroundcolor": "#E5ECF6",
            "gridcolor": "white",
            "gridwidth": 2,
            "linecolor": "white",
            "showbackground": true,
            "ticks": "",
            "zerolinecolor": "white"
           }
          },
          "shapedefaults": {
           "line": {
            "color": "#2a3f5f"
           }
          },
          "ternary": {
           "aaxis": {
            "gridcolor": "white",
            "linecolor": "white",
            "ticks": ""
           },
           "baxis": {
            "gridcolor": "white",
            "linecolor": "white",
            "ticks": ""
           },
           "bgcolor": "#E5ECF6",
           "caxis": {
            "gridcolor": "white",
            "linecolor": "white",
            "ticks": ""
           }
          },
          "title": {
           "x": 0.05
          },
          "xaxis": {
           "automargin": true,
           "gridcolor": "white",
           "linecolor": "white",
           "ticks": "",
           "title": {
            "standoff": 15
           },
           "zerolinecolor": "white",
           "zerolinewidth": 2
          },
          "yaxis": {
           "automargin": true,
           "gridcolor": "white",
           "linecolor": "white",
           "ticks": "",
           "title": {
            "standoff": 15
           },
           "zerolinecolor": "white",
           "zerolinewidth": 2
          }
         }
        }
       }
      }
     },
     "metadata": {}
    }
   ],
   "metadata": {}
  },
  {
   "cell_type": "code",
   "execution_count": 165,
   "source": [
    "# Write chart to file (.html)\n",
    "config = {\"displayModeBar\": False, \"displaylogo\": False}\n",
    "plotly_obj = plotly.offline.plot(\n",
    "    fig, include_plotlyjs=False, output_type=\"div\", config=config\n",
    ")\n",
    "with open(\"_includes/booking_type.html\", \"w\") as file:\n",
    "    file.write(plotly_obj)"
   ],
   "outputs": [],
   "metadata": {}
  },
  {
   "cell_type": "markdown",
   "source": [
    "# GP online services"
   ],
   "metadata": {}
  },
  {
   "cell_type": "markdown",
   "source": [
    "### Which of the following general practice online services have you used in the past 12 months?"
   ],
   "metadata": {}
  },
  {
   "cell_type": "code",
   "execution_count": 166,
   "source": [
    "# Could you change the file to data/Online_gp_services.csv\n",
    "online_gp_services = pd.read_csv (r'data/Online_gp_services.csv', sep=',', header=0).dropna(axis='columns')\n",
    "# remove those respondents that did not use any online service\n",
    "online_gp_services = online_gp_services.rename(columns={\n",
    "    \"75_Over_N\": \"Aged 75+\",\n",
    "    '16_24_N': \"Aged 16-24\",\n",
    "    'National_N': \"All Patients\"})\n",
    "online_gp_services = pd.melt(\n",
    "    online_gp_services,\n",
    "    id_vars=['Activity', 'Lable'],\n",
    "    value_vars=[\n",
    "        \"Aged 75+\",\n",
    "        \"Aged 16-24\",\n",
    "        \"All Patients\"])\n",
    "online_gp_services.columns = [\"Online Activity\", \"Lable\", \"Age Group\", \"Count of Respondents\"]\n",
    "\n",
    "# use groupby on age to get the total counts\n",
    "online_gp_services_total = online_gp_services.groupby('Age Group').sum().reset_index()\n",
    "online_gp_services_total.rename(columns={'Count of Respondents': 'Total Respondents'}, inplace=True)\n",
    "\n",
    "# merge the totals back to the df\n",
    "online_gp_services = pd.merge(online_gp_services, online_gp_services_total, on='Age Group', how='left')\n",
    "# calculate percentages\n",
    "online_gp_services['Percent'] = online_gp_services['Count of Respondents']/online_gp_services['Total Respondents']\n",
    "online_gp_services = online_gp_services.sort_values(['Percent'], ascending=True)\n",
    "online_gp_services = online_gp_services[~online_gp_services['Online Activity'].str.contains(\"None of these\")]\n",
    "online_gp_services"
   ],
   "outputs": [
    {
     "output_type": "execute_result",
     "data": {
      "text/plain": [
       "                              Online Activity  \\\n",
       "2         Accessing my medical records online   \n",
       "12        Accessing my medical records online   \n",
       "7         Accessing my medical records online   \n",
       "0                 Booking appointments online   \n",
       "3   Had an online consultation or appointment   \n",
       "6        Ordering repeat prescriptions online   \n",
       "13  Had an online consultation or appointment   \n",
       "10                Booking appointments online   \n",
       "5                 Booking appointments online   \n",
       "8   Had an online consultation or appointment   \n",
       "1        Ordering repeat prescriptions online   \n",
       "11       Ordering repeat prescriptions online   \n",
       "\n",
       "                                   Lable     Age Group  Count of Respondents  \\\n",
       "2               Access medical<br>record      Aged 75+                  2653   \n",
       "12              Access medical<br>record  All Patients                 58910   \n",
       "7               Access medical<br>record    Aged 16-24                  6166   \n",
       "0                 Book an<br>appointment      Aged 75+                  8710   \n",
       "3   Had a Consultation<br>or appointment      Aged 75+                  9408   \n",
       "6           Order repeat<br>prescription    Aged 16-24                 14599   \n",
       "13  Had a Consultation<br>or appointment  All Patients                148409   \n",
       "10                Book an<br>appointment  All Patients                155845   \n",
       "5                 Book an<br>appointment    Aged 16-24                 16363   \n",
       "8   Had a Consultation<br>or appointment    Aged 16-24                 16590   \n",
       "1           Order repeat<br>prescription      Aged 75+                 19830   \n",
       "11          Order repeat<br>prescription  All Patients                217730   \n",
       "\n",
       "    Total Respondents   Percent  \n",
       "2               97009  0.027348  \n",
       "12            1046278  0.056304  \n",
       "7              104776  0.058849  \n",
       "0               97009  0.089785  \n",
       "3               97009  0.096981  \n",
       "6              104776  0.139335  \n",
       "13            1046278  0.141845  \n",
       "10            1046278  0.148952  \n",
       "5              104776  0.156171  \n",
       "8              104776  0.158338  \n",
       "1               97009  0.204414  \n",
       "11            1046278  0.208100  "
      ],
      "text/html": [
       "<div>\n",
       "<style scoped>\n",
       "    .dataframe tbody tr th:only-of-type {\n",
       "        vertical-align: middle;\n",
       "    }\n",
       "\n",
       "    .dataframe tbody tr th {\n",
       "        vertical-align: top;\n",
       "    }\n",
       "\n",
       "    .dataframe thead th {\n",
       "        text-align: right;\n",
       "    }\n",
       "</style>\n",
       "<table border=\"1\" class=\"dataframe\">\n",
       "  <thead>\n",
       "    <tr style=\"text-align: right;\">\n",
       "      <th></th>\n",
       "      <th>Online Activity</th>\n",
       "      <th>Lable</th>\n",
       "      <th>Age Group</th>\n",
       "      <th>Count of Respondents</th>\n",
       "      <th>Total Respondents</th>\n",
       "      <th>Percent</th>\n",
       "    </tr>\n",
       "  </thead>\n",
       "  <tbody>\n",
       "    <tr>\n",
       "      <th>2</th>\n",
       "      <td>Accessing my medical records online</td>\n",
       "      <td>Access medical&lt;br&gt;record</td>\n",
       "      <td>Aged 75+</td>\n",
       "      <td>2653</td>\n",
       "      <td>97009</td>\n",
       "      <td>0.027348</td>\n",
       "    </tr>\n",
       "    <tr>\n",
       "      <th>12</th>\n",
       "      <td>Accessing my medical records online</td>\n",
       "      <td>Access medical&lt;br&gt;record</td>\n",
       "      <td>All Patients</td>\n",
       "      <td>58910</td>\n",
       "      <td>1046278</td>\n",
       "      <td>0.056304</td>\n",
       "    </tr>\n",
       "    <tr>\n",
       "      <th>7</th>\n",
       "      <td>Accessing my medical records online</td>\n",
       "      <td>Access medical&lt;br&gt;record</td>\n",
       "      <td>Aged 16-24</td>\n",
       "      <td>6166</td>\n",
       "      <td>104776</td>\n",
       "      <td>0.058849</td>\n",
       "    </tr>\n",
       "    <tr>\n",
       "      <th>0</th>\n",
       "      <td>Booking appointments online</td>\n",
       "      <td>Book an&lt;br&gt;appointment</td>\n",
       "      <td>Aged 75+</td>\n",
       "      <td>8710</td>\n",
       "      <td>97009</td>\n",
       "      <td>0.089785</td>\n",
       "    </tr>\n",
       "    <tr>\n",
       "      <th>3</th>\n",
       "      <td>Had an online consultation or appointment</td>\n",
       "      <td>Had a Consultation&lt;br&gt;or appointment</td>\n",
       "      <td>Aged 75+</td>\n",
       "      <td>9408</td>\n",
       "      <td>97009</td>\n",
       "      <td>0.096981</td>\n",
       "    </tr>\n",
       "    <tr>\n",
       "      <th>6</th>\n",
       "      <td>Ordering repeat prescriptions online</td>\n",
       "      <td>Order repeat&lt;br&gt;prescription</td>\n",
       "      <td>Aged 16-24</td>\n",
       "      <td>14599</td>\n",
       "      <td>104776</td>\n",
       "      <td>0.139335</td>\n",
       "    </tr>\n",
       "    <tr>\n",
       "      <th>13</th>\n",
       "      <td>Had an online consultation or appointment</td>\n",
       "      <td>Had a Consultation&lt;br&gt;or appointment</td>\n",
       "      <td>All Patients</td>\n",
       "      <td>148409</td>\n",
       "      <td>1046278</td>\n",
       "      <td>0.141845</td>\n",
       "    </tr>\n",
       "    <tr>\n",
       "      <th>10</th>\n",
       "      <td>Booking appointments online</td>\n",
       "      <td>Book an&lt;br&gt;appointment</td>\n",
       "      <td>All Patients</td>\n",
       "      <td>155845</td>\n",
       "      <td>1046278</td>\n",
       "      <td>0.148952</td>\n",
       "    </tr>\n",
       "    <tr>\n",
       "      <th>5</th>\n",
       "      <td>Booking appointments online</td>\n",
       "      <td>Book an&lt;br&gt;appointment</td>\n",
       "      <td>Aged 16-24</td>\n",
       "      <td>16363</td>\n",
       "      <td>104776</td>\n",
       "      <td>0.156171</td>\n",
       "    </tr>\n",
       "    <tr>\n",
       "      <th>8</th>\n",
       "      <td>Had an online consultation or appointment</td>\n",
       "      <td>Had a Consultation&lt;br&gt;or appointment</td>\n",
       "      <td>Aged 16-24</td>\n",
       "      <td>16590</td>\n",
       "      <td>104776</td>\n",
       "      <td>0.158338</td>\n",
       "    </tr>\n",
       "    <tr>\n",
       "      <th>1</th>\n",
       "      <td>Ordering repeat prescriptions online</td>\n",
       "      <td>Order repeat&lt;br&gt;prescription</td>\n",
       "      <td>Aged 75+</td>\n",
       "      <td>19830</td>\n",
       "      <td>97009</td>\n",
       "      <td>0.204414</td>\n",
       "    </tr>\n",
       "    <tr>\n",
       "      <th>11</th>\n",
       "      <td>Ordering repeat prescriptions online</td>\n",
       "      <td>Order repeat&lt;br&gt;prescription</td>\n",
       "      <td>All Patients</td>\n",
       "      <td>217730</td>\n",
       "      <td>1046278</td>\n",
       "      <td>0.208100</td>\n",
       "    </tr>\n",
       "  </tbody>\n",
       "</table>\n",
       "</div>"
      ]
     },
     "metadata": {},
     "execution_count": 166
    }
   ],
   "metadata": {}
  },
  {
   "cell_type": "code",
   "execution_count": 167,
   "source": [
    "\n",
    "# plot the long (tidy) dataframe\n",
    "fig = px.bar(\n",
    "    online_gp_services,\n",
    "    x=\"Online Activity\",\n",
    "    y=\"Percent\",\n",
    "    color=\"Age Group\",\n",
    "    color_discrete_sequence=nhs_colours,\n",
    "    barmode=\"group\",\n",
    "    text=\"Percent\",\n",
    "    height=350,\n",
    ")\n",
    "\n",
    "# Asthetics of the plot\n",
    "fig.update_layout(\n",
    "    # change background colour \n",
    "    {\"plot_bgcolor\": \"rgba(0,0,0, 0)\", \"paper_bgcolor\": \"rgba(0,0,0, 0)\"},\n",
    "    yaxis_title='Of survey respondents (%)',\n",
    "    yaxis=dict(\n",
    "        tickformat = \"%\",\n",
    "        range=[0, 0.3]),\n",
    "    xaxis=dict(\n",
    "        tickmode = 'array',\n",
    "        tickvals = online_gp_services['Online Activity'].tolist(),\n",
    "        ticktext = online_gp_services['Lable'].tolist(),\n",
    "        #tickangle = 0\n",
    "    ),\n",
    "    xaxis_title=None,\n",
    "    # change fonts\n",
    "    font=dict(family=\"Arial\", size=16),\n",
    "    # autosize makes the chart 'responsive' (https://en.wikipedia.org/wiki/Responsive_web_design)\n",
    "    autosize=True,\n",
    "    margin=dict(\n",
    "        l=50,\n",
    "        r=50,\n",
    "        b=50,\n",
    "        t=50,\n",
    "        pad=4,\n",
    "        autoexpand=True\n",
    "        ),\n",
    "    ## options for the hover-over text\n",
    "    # changes how the hover-over box is displayed\n",
    "    hovermode=\"x unified\",\n",
    "    # hoverlabel_align = 'right',\n",
    "    # changes the hover-over box formatting\n",
    "    hoverlabel=dict(\n",
    "        bgcolor=\"white\",\n",
    "        font_size=16,\n",
    "        font_family=\"Arial\"\n",
    "    ),\n",
    "    legend=dict(\n",
    "    orientation=\"h\",\n",
    "    yanchor=\"bottom\",\n",
    "    y=1.02,\n",
    "    xanchor=\"right\",\n",
    "    x=1\n",
    "    )\n",
    ")\n",
    "# options to change how the bars look\n",
    "fig.update_traces(\n",
    "    # this also changes the hover-over box formatting\n",
    "    hovertemplate='<b>%{fullData.name}</b>: %{text:.1%}<extra></extra>',\n",
    "    # outline of bars\n",
    "    marker_line_color = 'rgb(8,48,107)',\n",
    "    marker_line_width=1.5,\n",
    "    opacity=1,\n",
    "    # options for text inside bars\n",
    "    texttemplate='%{text:.1%}',\n",
    "    textposition='inside'\n",
    "    )\n",
    "fig.update_xaxes(type='category')\n",
    "fig.show()"
   ],
   "outputs": [
    {
     "output_type": "display_data",
     "data": {
      "application/vnd.plotly.v1+json": {
       "config": {
        "plotlyServerURL": "https://plot.ly"
       },
       "data": [
        {
         "alignmentgroup": "True",
         "hovertemplate": "<b>%{fullData.name}</b>: %{text:.1%}<extra></extra>",
         "legendgroup": "Aged 75+",
         "marker": {
          "color": "#00A499",
          "line": {
           "color": "rgb(8,48,107)",
           "width": 1.5
          }
         },
         "name": "Aged 75+",
         "offsetgroup": "Aged 75+",
         "opacity": 1,
         "orientation": "v",
         "showlegend": true,
         "text": [
          0.02734797802265769,
          0.08978548382108877,
          0.09698069251306579,
          0.20441402344112403
         ],
         "textposition": "inside",
         "texttemplate": "%{text:.1%}",
         "type": "bar",
         "x": [
          "Accessing my medical records online",
          "Booking appointments online",
          "Had an online consultation or appointment",
          "Ordering repeat prescriptions online"
         ],
         "xaxis": "x",
         "y": [
          0.02734797802265769,
          0.08978548382108877,
          0.09698069251306579,
          0.20441402344112403
         ],
         "yaxis": "y"
        },
        {
         "alignmentgroup": "True",
         "hovertemplate": "<b>%{fullData.name}</b>: %{text:.1%}<extra></extra>",
         "legendgroup": "All Patients",
         "marker": {
          "color": "#FFB81C",
          "line": {
           "color": "rgb(8,48,107)",
           "width": 1.5
          }
         },
         "name": "All Patients",
         "offsetgroup": "All Patients",
         "opacity": 1,
         "orientation": "v",
         "showlegend": true,
         "text": [
          0.05630434741053525,
          0.14184471048803474,
          0.14895180821923046,
          0.2080995681835994
         ],
         "textposition": "inside",
         "texttemplate": "%{text:.1%}",
         "type": "bar",
         "x": [
          "Accessing my medical records online",
          "Had an online consultation or appointment",
          "Booking appointments online",
          "Ordering repeat prescriptions online"
         ],
         "xaxis": "x",
         "y": [
          0.05630434741053525,
          0.14184471048803474,
          0.14895180821923046,
          0.2080995681835994
         ],
         "yaxis": "y"
        },
        {
         "alignmentgroup": "True",
         "hovertemplate": "<b>%{fullData.name}</b>: %{text:.1%}<extra></extra>",
         "legendgroup": "Aged 16-24",
         "marker": {
          "color": "#7C2855",
          "line": {
           "color": "rgb(8,48,107)",
           "width": 1.5
          }
         },
         "name": "Aged 16-24",
         "offsetgroup": "Aged 16-24",
         "opacity": 1,
         "orientation": "v",
         "showlegend": true,
         "text": [
          0.05884935481407956,
          0.13933534397190198,
          0.15617126059402917,
          0.15833778727952966
         ],
         "textposition": "inside",
         "texttemplate": "%{text:.1%}",
         "type": "bar",
         "x": [
          "Accessing my medical records online",
          "Ordering repeat prescriptions online",
          "Booking appointments online",
          "Had an online consultation or appointment"
         ],
         "xaxis": "x",
         "y": [
          0.05884935481407956,
          0.13933534397190198,
          0.15617126059402917,
          0.15833778727952966
         ],
         "yaxis": "y"
        }
       ],
       "layout": {
        "autosize": true,
        "barmode": "group",
        "font": {
         "family": "Arial",
         "size": 16
        },
        "height": 350,
        "hoverlabel": {
         "bgcolor": "white",
         "font": {
          "family": "Arial",
          "size": 16
         }
        },
        "hovermode": "x unified",
        "legend": {
         "orientation": "h",
         "title": {
          "text": "Age Group"
         },
         "tracegroupgap": 0,
         "x": 1,
         "xanchor": "right",
         "y": 1.02,
         "yanchor": "bottom"
        },
        "margin": {
         "autoexpand": true,
         "b": 50,
         "l": 50,
         "pad": 4,
         "r": 50,
         "t": 50
        },
        "paper_bgcolor": "rgba(0,0,0, 0)",
        "plot_bgcolor": "rgba(0,0,0, 0)",
        "template": {
         "data": {
          "bar": [
           {
            "error_x": {
             "color": "#2a3f5f"
            },
            "error_y": {
             "color": "#2a3f5f"
            },
            "marker": {
             "line": {
              "color": "#E5ECF6",
              "width": 0.5
             }
            },
            "type": "bar"
           }
          ],
          "barpolar": [
           {
            "marker": {
             "line": {
              "color": "#E5ECF6",
              "width": 0.5
             }
            },
            "type": "barpolar"
           }
          ],
          "carpet": [
           {
            "aaxis": {
             "endlinecolor": "#2a3f5f",
             "gridcolor": "white",
             "linecolor": "white",
             "minorgridcolor": "white",
             "startlinecolor": "#2a3f5f"
            },
            "baxis": {
             "endlinecolor": "#2a3f5f",
             "gridcolor": "white",
             "linecolor": "white",
             "minorgridcolor": "white",
             "startlinecolor": "#2a3f5f"
            },
            "type": "carpet"
           }
          ],
          "choropleth": [
           {
            "colorbar": {
             "outlinewidth": 0,
             "ticks": ""
            },
            "type": "choropleth"
           }
          ],
          "contour": [
           {
            "colorbar": {
             "outlinewidth": 0,
             "ticks": ""
            },
            "colorscale": [
             [
              0,
              "#0d0887"
             ],
             [
              0.1111111111111111,
              "#46039f"
             ],
             [
              0.2222222222222222,
              "#7201a8"
             ],
             [
              0.3333333333333333,
              "#9c179e"
             ],
             [
              0.4444444444444444,
              "#bd3786"
             ],
             [
              0.5555555555555556,
              "#d8576b"
             ],
             [
              0.6666666666666666,
              "#ed7953"
             ],
             [
              0.7777777777777778,
              "#fb9f3a"
             ],
             [
              0.8888888888888888,
              "#fdca26"
             ],
             [
              1,
              "#f0f921"
             ]
            ],
            "type": "contour"
           }
          ],
          "contourcarpet": [
           {
            "colorbar": {
             "outlinewidth": 0,
             "ticks": ""
            },
            "type": "contourcarpet"
           }
          ],
          "heatmap": [
           {
            "colorbar": {
             "outlinewidth": 0,
             "ticks": ""
            },
            "colorscale": [
             [
              0,
              "#0d0887"
             ],
             [
              0.1111111111111111,
              "#46039f"
             ],
             [
              0.2222222222222222,
              "#7201a8"
             ],
             [
              0.3333333333333333,
              "#9c179e"
             ],
             [
              0.4444444444444444,
              "#bd3786"
             ],
             [
              0.5555555555555556,
              "#d8576b"
             ],
             [
              0.6666666666666666,
              "#ed7953"
             ],
             [
              0.7777777777777778,
              "#fb9f3a"
             ],
             [
              0.8888888888888888,
              "#fdca26"
             ],
             [
              1,
              "#f0f921"
             ]
            ],
            "type": "heatmap"
           }
          ],
          "heatmapgl": [
           {
            "colorbar": {
             "outlinewidth": 0,
             "ticks": ""
            },
            "colorscale": [
             [
              0,
              "#0d0887"
             ],
             [
              0.1111111111111111,
              "#46039f"
             ],
             [
              0.2222222222222222,
              "#7201a8"
             ],
             [
              0.3333333333333333,
              "#9c179e"
             ],
             [
              0.4444444444444444,
              "#bd3786"
             ],
             [
              0.5555555555555556,
              "#d8576b"
             ],
             [
              0.6666666666666666,
              "#ed7953"
             ],
             [
              0.7777777777777778,
              "#fb9f3a"
             ],
             [
              0.8888888888888888,
              "#fdca26"
             ],
             [
              1,
              "#f0f921"
             ]
            ],
            "type": "heatmapgl"
           }
          ],
          "histogram": [
           {
            "marker": {
             "colorbar": {
              "outlinewidth": 0,
              "ticks": ""
             }
            },
            "type": "histogram"
           }
          ],
          "histogram2d": [
           {
            "colorbar": {
             "outlinewidth": 0,
             "ticks": ""
            },
            "colorscale": [
             [
              0,
              "#0d0887"
             ],
             [
              0.1111111111111111,
              "#46039f"
             ],
             [
              0.2222222222222222,
              "#7201a8"
             ],
             [
              0.3333333333333333,
              "#9c179e"
             ],
             [
              0.4444444444444444,
              "#bd3786"
             ],
             [
              0.5555555555555556,
              "#d8576b"
             ],
             [
              0.6666666666666666,
              "#ed7953"
             ],
             [
              0.7777777777777778,
              "#fb9f3a"
             ],
             [
              0.8888888888888888,
              "#fdca26"
             ],
             [
              1,
              "#f0f921"
             ]
            ],
            "type": "histogram2d"
           }
          ],
          "histogram2dcontour": [
           {
            "colorbar": {
             "outlinewidth": 0,
             "ticks": ""
            },
            "colorscale": [
             [
              0,
              "#0d0887"
             ],
             [
              0.1111111111111111,
              "#46039f"
             ],
             [
              0.2222222222222222,
              "#7201a8"
             ],
             [
              0.3333333333333333,
              "#9c179e"
             ],
             [
              0.4444444444444444,
              "#bd3786"
             ],
             [
              0.5555555555555556,
              "#d8576b"
             ],
             [
              0.6666666666666666,
              "#ed7953"
             ],
             [
              0.7777777777777778,
              "#fb9f3a"
             ],
             [
              0.8888888888888888,
              "#fdca26"
             ],
             [
              1,
              "#f0f921"
             ]
            ],
            "type": "histogram2dcontour"
           }
          ],
          "mesh3d": [
           {
            "colorbar": {
             "outlinewidth": 0,
             "ticks": ""
            },
            "type": "mesh3d"
           }
          ],
          "parcoords": [
           {
            "line": {
             "colorbar": {
              "outlinewidth": 0,
              "ticks": ""
             }
            },
            "type": "parcoords"
           }
          ],
          "pie": [
           {
            "automargin": true,
            "type": "pie"
           }
          ],
          "scatter": [
           {
            "marker": {
             "colorbar": {
              "outlinewidth": 0,
              "ticks": ""
             }
            },
            "type": "scatter"
           }
          ],
          "scatter3d": [
           {
            "line": {
             "colorbar": {
              "outlinewidth": 0,
              "ticks": ""
             }
            },
            "marker": {
             "colorbar": {
              "outlinewidth": 0,
              "ticks": ""
             }
            },
            "type": "scatter3d"
           }
          ],
          "scattercarpet": [
           {
            "marker": {
             "colorbar": {
              "outlinewidth": 0,
              "ticks": ""
             }
            },
            "type": "scattercarpet"
           }
          ],
          "scattergeo": [
           {
            "marker": {
             "colorbar": {
              "outlinewidth": 0,
              "ticks": ""
             }
            },
            "type": "scattergeo"
           }
          ],
          "scattergl": [
           {
            "marker": {
             "colorbar": {
              "outlinewidth": 0,
              "ticks": ""
             }
            },
            "type": "scattergl"
           }
          ],
          "scattermapbox": [
           {
            "marker": {
             "colorbar": {
              "outlinewidth": 0,
              "ticks": ""
             }
            },
            "type": "scattermapbox"
           }
          ],
          "scatterpolar": [
           {
            "marker": {
             "colorbar": {
              "outlinewidth": 0,
              "ticks": ""
             }
            },
            "type": "scatterpolar"
           }
          ],
          "scatterpolargl": [
           {
            "marker": {
             "colorbar": {
              "outlinewidth": 0,
              "ticks": ""
             }
            },
            "type": "scatterpolargl"
           }
          ],
          "scatterternary": [
           {
            "marker": {
             "colorbar": {
              "outlinewidth": 0,
              "ticks": ""
             }
            },
            "type": "scatterternary"
           }
          ],
          "surface": [
           {
            "colorbar": {
             "outlinewidth": 0,
             "ticks": ""
            },
            "colorscale": [
             [
              0,
              "#0d0887"
             ],
             [
              0.1111111111111111,
              "#46039f"
             ],
             [
              0.2222222222222222,
              "#7201a8"
             ],
             [
              0.3333333333333333,
              "#9c179e"
             ],
             [
              0.4444444444444444,
              "#bd3786"
             ],
             [
              0.5555555555555556,
              "#d8576b"
             ],
             [
              0.6666666666666666,
              "#ed7953"
             ],
             [
              0.7777777777777778,
              "#fb9f3a"
             ],
             [
              0.8888888888888888,
              "#fdca26"
             ],
             [
              1,
              "#f0f921"
             ]
            ],
            "type": "surface"
           }
          ],
          "table": [
           {
            "cells": {
             "fill": {
              "color": "#EBF0F8"
             },
             "line": {
              "color": "white"
             }
            },
            "header": {
             "fill": {
              "color": "#C8D4E3"
             },
             "line": {
              "color": "white"
             }
            },
            "type": "table"
           }
          ]
         },
         "layout": {
          "annotationdefaults": {
           "arrowcolor": "#2a3f5f",
           "arrowhead": 0,
           "arrowwidth": 1
          },
          "autotypenumbers": "strict",
          "coloraxis": {
           "colorbar": {
            "outlinewidth": 0,
            "ticks": ""
           }
          },
          "colorscale": {
           "diverging": [
            [
             0,
             "#8e0152"
            ],
            [
             0.1,
             "#c51b7d"
            ],
            [
             0.2,
             "#de77ae"
            ],
            [
             0.3,
             "#f1b6da"
            ],
            [
             0.4,
             "#fde0ef"
            ],
            [
             0.5,
             "#f7f7f7"
            ],
            [
             0.6,
             "#e6f5d0"
            ],
            [
             0.7,
             "#b8e186"
            ],
            [
             0.8,
             "#7fbc41"
            ],
            [
             0.9,
             "#4d9221"
            ],
            [
             1,
             "#276419"
            ]
           ],
           "sequential": [
            [
             0,
             "#0d0887"
            ],
            [
             0.1111111111111111,
             "#46039f"
            ],
            [
             0.2222222222222222,
             "#7201a8"
            ],
            [
             0.3333333333333333,
             "#9c179e"
            ],
            [
             0.4444444444444444,
             "#bd3786"
            ],
            [
             0.5555555555555556,
             "#d8576b"
            ],
            [
             0.6666666666666666,
             "#ed7953"
            ],
            [
             0.7777777777777778,
             "#fb9f3a"
            ],
            [
             0.8888888888888888,
             "#fdca26"
            ],
            [
             1,
             "#f0f921"
            ]
           ],
           "sequentialminus": [
            [
             0,
             "#0d0887"
            ],
            [
             0.1111111111111111,
             "#46039f"
            ],
            [
             0.2222222222222222,
             "#7201a8"
            ],
            [
             0.3333333333333333,
             "#9c179e"
            ],
            [
             0.4444444444444444,
             "#bd3786"
            ],
            [
             0.5555555555555556,
             "#d8576b"
            ],
            [
             0.6666666666666666,
             "#ed7953"
            ],
            [
             0.7777777777777778,
             "#fb9f3a"
            ],
            [
             0.8888888888888888,
             "#fdca26"
            ],
            [
             1,
             "#f0f921"
            ]
           ]
          },
          "colorway": [
           "#636efa",
           "#EF553B",
           "#00cc96",
           "#ab63fa",
           "#FFA15A",
           "#19d3f3",
           "#FF6692",
           "#B6E880",
           "#FF97FF",
           "#FECB52"
          ],
          "font": {
           "color": "#2a3f5f"
          },
          "geo": {
           "bgcolor": "white",
           "lakecolor": "white",
           "landcolor": "#E5ECF6",
           "showlakes": true,
           "showland": true,
           "subunitcolor": "white"
          },
          "hoverlabel": {
           "align": "left"
          },
          "hovermode": "closest",
          "mapbox": {
           "style": "light"
          },
          "paper_bgcolor": "white",
          "plot_bgcolor": "#E5ECF6",
          "polar": {
           "angularaxis": {
            "gridcolor": "white",
            "linecolor": "white",
            "ticks": ""
           },
           "bgcolor": "#E5ECF6",
           "radialaxis": {
            "gridcolor": "white",
            "linecolor": "white",
            "ticks": ""
           }
          },
          "scene": {
           "xaxis": {
            "backgroundcolor": "#E5ECF6",
            "gridcolor": "white",
            "gridwidth": 2,
            "linecolor": "white",
            "showbackground": true,
            "ticks": "",
            "zerolinecolor": "white"
           },
           "yaxis": {
            "backgroundcolor": "#E5ECF6",
            "gridcolor": "white",
            "gridwidth": 2,
            "linecolor": "white",
            "showbackground": true,
            "ticks": "",
            "zerolinecolor": "white"
           },
           "zaxis": {
            "backgroundcolor": "#E5ECF6",
            "gridcolor": "white",
            "gridwidth": 2,
            "linecolor": "white",
            "showbackground": true,
            "ticks": "",
            "zerolinecolor": "white"
           }
          },
          "shapedefaults": {
           "line": {
            "color": "#2a3f5f"
           }
          },
          "ternary": {
           "aaxis": {
            "gridcolor": "white",
            "linecolor": "white",
            "ticks": ""
           },
           "baxis": {
            "gridcolor": "white",
            "linecolor": "white",
            "ticks": ""
           },
           "bgcolor": "#E5ECF6",
           "caxis": {
            "gridcolor": "white",
            "linecolor": "white",
            "ticks": ""
           }
          },
          "title": {
           "x": 0.05
          },
          "xaxis": {
           "automargin": true,
           "gridcolor": "white",
           "linecolor": "white",
           "ticks": "",
           "title": {
            "standoff": 15
           },
           "zerolinecolor": "white",
           "zerolinewidth": 2
          },
          "yaxis": {
           "automargin": true,
           "gridcolor": "white",
           "linecolor": "white",
           "ticks": "",
           "title": {
            "standoff": 15
           },
           "zerolinecolor": "white",
           "zerolinewidth": 2
          }
         }
        },
        "xaxis": {
         "anchor": "y",
         "domain": [
          0,
          1
         ],
         "tickmode": "array",
         "ticktext": [
          "Access medical<br>record",
          "Access medical<br>record",
          "Access medical<br>record",
          "Book an<br>appointment",
          "Had a Consultation<br>or appointment",
          "Order repeat<br>prescription",
          "Had a Consultation<br>or appointment",
          "Book an<br>appointment",
          "Book an<br>appointment",
          "Had a Consultation<br>or appointment",
          "Order repeat<br>prescription",
          "Order repeat<br>prescription"
         ],
         "tickvals": [
          "Accessing my medical records online",
          "Accessing my medical records online",
          "Accessing my medical records online",
          "Booking appointments online",
          "Had an online consultation or appointment",
          "Ordering repeat prescriptions online",
          "Had an online consultation or appointment",
          "Booking appointments online",
          "Booking appointments online",
          "Had an online consultation or appointment",
          "Ordering repeat prescriptions online",
          "Ordering repeat prescriptions online"
         ],
         "title": {},
         "type": "category"
        },
        "yaxis": {
         "anchor": "x",
         "domain": [
          0,
          1
         ],
         "range": [
          0,
          0.3
         ],
         "tickformat": "%",
         "title": {
          "text": "Of survey respondents (%)"
         }
        }
       }
      }
     },
     "metadata": {}
    }
   ],
   "metadata": {}
  },
  {
   "cell_type": "code",
   "execution_count": 168,
   "source": [
    "# Write chart to file (.html)\n",
    "config = {\"displayModeBar\": False, \"displaylogo\": False}\n",
    "plotly_obj = plotly.offline.plot(\n",
    "    fig, include_plotlyjs=False, output_type=\"div\", config=config\n",
    ")\n",
    "with open(\"_includes/online_activities_all.html\", \"w\") as file:\n",
    "    file.write(plotly_obj)\n",
    "\n",
    "html_str = '<b>Figure 2.</b> The proportion of different online service use, between survey respondents that used an online services within the last 12 months (as of March 2021). Source: GP Patient Survey 2021.'"
   ],
   "outputs": [],
   "metadata": {}
  },
  {
   "cell_type": "markdown",
   "source": [
    "## Trends - Using GP Websites"
   ],
   "metadata": {}
  },
  {
   "cell_type": "markdown",
   "source": [
    "## How easy is it to use your GP practice’s website to look for information or access services?"
   ],
   "metadata": {}
  },
  {
   "cell_type": "code",
   "execution_count": 169,
   "source": [
    "# Over 75s (2018 - 2021)\n",
    "ease_of_use_75 = pd.read_csv (r'data/Ease_of_use_over_time_75+.csv', header = 0)\n",
    "ease_of_use_75.columns = [\"Year\", \"Percent\"]\n",
    "\n",
    "# 16-24s (2018 - 2021)\n",
    "ease_16_24 = pd.read_csv (r'data/use_16_24.csv', header = 0)                                                                                                                                                 \n",
    "ease_16_24.columns = [\"Year\", \"Age 16-24\"]\n",
    "\n",
    "# Long term health conditions (2018 - 2021)\n",
    "trend_ease_use_LTC = pd.read_csv (r'data/trend_ease_use_2021_time_long_term_condition.csv')\n",
    "trend_ease_use_LTC = trend_ease_use_LTC.dropna(axis='rows')\n",
    "trend_ease_use_LTC.columns = [\"Year\", \"Long-term Cond.\"]\n",
    "\n",
    "# merge\n",
    "#ease_of_use = ease_16_24.merge(ease_use_75_and_over,on='Year').merge(trend_ease_use_LTC,on='Year')\n",
    "#ease_of_use = pd.melt(\n",
    "#    ease_of_use,\n",
    "#    id_vars=['Year'],\n",
    "#    value_vars=[\n",
    "#        \"Age 16-24\",\n",
    "#        \"Age 75+\",\n",
    "#        \"Long-term Cond.\"])\n",
    "#ease_of_use.columns = [\"Year\", \"Group\", \"Percent\"]\n",
    "#ease_of_use\n",
    "\n",
    "#ease_of_use_75 = ease_of_use[ease_of_use['Group']=='Age 75+']\n",
    "#ease_of_use_75 = ease_of_use_75.sort_values(['Year'], ascending=True)\n",
    "ease_of_use_75['Age Group'] = 'Age 75+'\n",
    "ease_of_use_75['Difficult'] = 1-ease_of_use_75['Percent']\n",
    "ease_of_use_75"
   ],
   "outputs": [
    {
     "output_type": "execute_result",
     "data": {
      "text/plain": [
       "         Year  Percent Age Group  Difficult\n",
       "0  March 2018     0.84   Age 75+       0.16\n",
       "1  March 2019     0.81   Age 75+       0.19\n",
       "2  March 2020     0.80   Age 75+       0.20\n",
       "3  March 2021     0.75   Age 75+       0.25"
      ],
      "text/html": [
       "<div>\n",
       "<style scoped>\n",
       "    .dataframe tbody tr th:only-of-type {\n",
       "        vertical-align: middle;\n",
       "    }\n",
       "\n",
       "    .dataframe tbody tr th {\n",
       "        vertical-align: top;\n",
       "    }\n",
       "\n",
       "    .dataframe thead th {\n",
       "        text-align: right;\n",
       "    }\n",
       "</style>\n",
       "<table border=\"1\" class=\"dataframe\">\n",
       "  <thead>\n",
       "    <tr style=\"text-align: right;\">\n",
       "      <th></th>\n",
       "      <th>Year</th>\n",
       "      <th>Percent</th>\n",
       "      <th>Age Group</th>\n",
       "      <th>Difficult</th>\n",
       "    </tr>\n",
       "  </thead>\n",
       "  <tbody>\n",
       "    <tr>\n",
       "      <th>0</th>\n",
       "      <td>March 2018</td>\n",
       "      <td>0.84</td>\n",
       "      <td>Age 75+</td>\n",
       "      <td>0.16</td>\n",
       "    </tr>\n",
       "    <tr>\n",
       "      <th>1</th>\n",
       "      <td>March 2019</td>\n",
       "      <td>0.81</td>\n",
       "      <td>Age 75+</td>\n",
       "      <td>0.19</td>\n",
       "    </tr>\n",
       "    <tr>\n",
       "      <th>2</th>\n",
       "      <td>March 2020</td>\n",
       "      <td>0.80</td>\n",
       "      <td>Age 75+</td>\n",
       "      <td>0.20</td>\n",
       "    </tr>\n",
       "    <tr>\n",
       "      <th>3</th>\n",
       "      <td>March 2021</td>\n",
       "      <td>0.75</td>\n",
       "      <td>Age 75+</td>\n",
       "      <td>0.25</td>\n",
       "    </tr>\n",
       "  </tbody>\n",
       "</table>\n",
       "</div>"
      ]
     },
     "metadata": {},
     "execution_count": 169
    }
   ],
   "metadata": {}
  },
  {
   "cell_type": "code",
   "execution_count": 170,
   "source": [
    "# plot the long (tidy) dataframe\n",
    "fig = px.bar(\n",
    "    ease_of_use_75,\n",
    "    x=\"Year\",\n",
    "    y=\"Difficult\",\n",
    "    color=\"Age Group\",\n",
    "    color_discrete_sequence=nhs_colours,\n",
    "    barmode=\"group\",\n",
    "    text=\"Difficult\",\n",
    "    height=350,\n",
    ")\n",
    "\n",
    "# Asthetics of the plot\n",
    "fig.update_layout(\n",
    "    # change background colour \n",
    "    {\"plot_bgcolor\": \"rgba(0, 0, 0, 0)\", \"paper_bgcolor\": \"rgba(0, 0, 0, 0)\"},\n",
    "    yaxis_title='Of survey respondents (%)',\n",
    "    xaxis_title=None,\n",
    "    yaxis=dict(\n",
    "        tickformat = \"%\",\n",
    "        range=[0, 0.3]),\n",
    "    # change fonts\n",
    "    font=dict(family=\"Arial\", size=16),\n",
    "    # autosize makes the chart 'responsive' (https://en.wikipedia.org/wiki/Responsive_web_design)\n",
    "    autosize=True,\n",
    "    margin=dict(\n",
    "        l=50,\n",
    "        r=50,\n",
    "        b=50,\n",
    "        t=0,\n",
    "        pad=4,\n",
    "        autoexpand=True\n",
    "        ),\n",
    "    ## options for the hover-over text\n",
    "    # changes how the hover-over box is displayed\n",
    "    hovermode=\"x unified\",\n",
    "    # hoverlabel_align = 'right',\n",
    "    # changes the hover-over box formatting\n",
    "    hoverlabel=dict(\n",
    "        bgcolor=\"white\",\n",
    "        font_size=16,\n",
    "        font_family=\"Arial\"\n",
    "    ),\n",
    "    legend=dict(\n",
    "    orientation=\"h\",\n",
    "    yanchor=\"bottom\",\n",
    "    y=1.02,\n",
    "    xanchor=\"right\",\n",
    "    x=1\n",
    "    )\n",
    ")\n",
    "# options to change how the bars look\n",
    "fig.update_traces(\n",
    "    # this also changes the hover-over box formatting\n",
    "    hovertemplate='<b>%{fullData.name}</b>: %{text:.0%}<extra></extra>',\n",
    "    # outline of bars\n",
    "    marker_line_color = 'rgb(8,48,107)',\n",
    "    marker_line_width=1.5,\n",
    "    opacity=1,\n",
    "    # options for text inside bars\n",
    "    texttemplate='%{text:.0%}',\n",
    "    textposition='inside',\n",
    "    textangle = 0\n",
    "    )\n",
    "fig.update_xaxes(type='category')\n",
    "fig.show()"
   ],
   "outputs": [
    {
     "output_type": "display_data",
     "data": {
      "application/vnd.plotly.v1+json": {
       "config": {
        "plotlyServerURL": "https://plot.ly"
       },
       "data": [
        {
         "alignmentgroup": "True",
         "hovertemplate": "<b>%{fullData.name}</b>: %{text:.0%}<extra></extra>",
         "legendgroup": "Age 75+",
         "marker": {
          "color": "#00A499",
          "line": {
           "color": "rgb(8,48,107)",
           "width": 1.5
          }
         },
         "name": "Age 75+",
         "offsetgroup": "Age 75+",
         "opacity": 1,
         "orientation": "v",
         "showlegend": true,
         "text": [
          0.16000000000000003,
          0.18999999999999995,
          0.19999999999999996,
          0.25
         ],
         "textangle": 0,
         "textposition": "inside",
         "texttemplate": "%{text:.0%}",
         "type": "bar",
         "x": [
          "March 2018",
          "March 2019",
          "March 2020",
          "March 2021"
         ],
         "xaxis": "x",
         "y": [
          0.16000000000000003,
          0.18999999999999995,
          0.19999999999999996,
          0.25
         ],
         "yaxis": "y"
        }
       ],
       "layout": {
        "autosize": true,
        "barmode": "group",
        "font": {
         "family": "Arial",
         "size": 16
        },
        "height": 350,
        "hoverlabel": {
         "bgcolor": "white",
         "font": {
          "family": "Arial",
          "size": 16
         }
        },
        "hovermode": "x unified",
        "legend": {
         "orientation": "h",
         "title": {
          "text": "Age Group"
         },
         "tracegroupgap": 0,
         "x": 1,
         "xanchor": "right",
         "y": 1.02,
         "yanchor": "bottom"
        },
        "margin": {
         "autoexpand": true,
         "b": 50,
         "l": 50,
         "pad": 4,
         "r": 50,
         "t": 0
        },
        "paper_bgcolor": "rgba(0, 0, 0, 0)",
        "plot_bgcolor": "rgba(0, 0, 0, 0)",
        "template": {
         "data": {
          "bar": [
           {
            "error_x": {
             "color": "#2a3f5f"
            },
            "error_y": {
             "color": "#2a3f5f"
            },
            "marker": {
             "line": {
              "color": "#E5ECF6",
              "width": 0.5
             }
            },
            "type": "bar"
           }
          ],
          "barpolar": [
           {
            "marker": {
             "line": {
              "color": "#E5ECF6",
              "width": 0.5
             }
            },
            "type": "barpolar"
           }
          ],
          "carpet": [
           {
            "aaxis": {
             "endlinecolor": "#2a3f5f",
             "gridcolor": "white",
             "linecolor": "white",
             "minorgridcolor": "white",
             "startlinecolor": "#2a3f5f"
            },
            "baxis": {
             "endlinecolor": "#2a3f5f",
             "gridcolor": "white",
             "linecolor": "white",
             "minorgridcolor": "white",
             "startlinecolor": "#2a3f5f"
            },
            "type": "carpet"
           }
          ],
          "choropleth": [
           {
            "colorbar": {
             "outlinewidth": 0,
             "ticks": ""
            },
            "type": "choropleth"
           }
          ],
          "contour": [
           {
            "colorbar": {
             "outlinewidth": 0,
             "ticks": ""
            },
            "colorscale": [
             [
              0,
              "#0d0887"
             ],
             [
              0.1111111111111111,
              "#46039f"
             ],
             [
              0.2222222222222222,
              "#7201a8"
             ],
             [
              0.3333333333333333,
              "#9c179e"
             ],
             [
              0.4444444444444444,
              "#bd3786"
             ],
             [
              0.5555555555555556,
              "#d8576b"
             ],
             [
              0.6666666666666666,
              "#ed7953"
             ],
             [
              0.7777777777777778,
              "#fb9f3a"
             ],
             [
              0.8888888888888888,
              "#fdca26"
             ],
             [
              1,
              "#f0f921"
             ]
            ],
            "type": "contour"
           }
          ],
          "contourcarpet": [
           {
            "colorbar": {
             "outlinewidth": 0,
             "ticks": ""
            },
            "type": "contourcarpet"
           }
          ],
          "heatmap": [
           {
            "colorbar": {
             "outlinewidth": 0,
             "ticks": ""
            },
            "colorscale": [
             [
              0,
              "#0d0887"
             ],
             [
              0.1111111111111111,
              "#46039f"
             ],
             [
              0.2222222222222222,
              "#7201a8"
             ],
             [
              0.3333333333333333,
              "#9c179e"
             ],
             [
              0.4444444444444444,
              "#bd3786"
             ],
             [
              0.5555555555555556,
              "#d8576b"
             ],
             [
              0.6666666666666666,
              "#ed7953"
             ],
             [
              0.7777777777777778,
              "#fb9f3a"
             ],
             [
              0.8888888888888888,
              "#fdca26"
             ],
             [
              1,
              "#f0f921"
             ]
            ],
            "type": "heatmap"
           }
          ],
          "heatmapgl": [
           {
            "colorbar": {
             "outlinewidth": 0,
             "ticks": ""
            },
            "colorscale": [
             [
              0,
              "#0d0887"
             ],
             [
              0.1111111111111111,
              "#46039f"
             ],
             [
              0.2222222222222222,
              "#7201a8"
             ],
             [
              0.3333333333333333,
              "#9c179e"
             ],
             [
              0.4444444444444444,
              "#bd3786"
             ],
             [
              0.5555555555555556,
              "#d8576b"
             ],
             [
              0.6666666666666666,
              "#ed7953"
             ],
             [
              0.7777777777777778,
              "#fb9f3a"
             ],
             [
              0.8888888888888888,
              "#fdca26"
             ],
             [
              1,
              "#f0f921"
             ]
            ],
            "type": "heatmapgl"
           }
          ],
          "histogram": [
           {
            "marker": {
             "colorbar": {
              "outlinewidth": 0,
              "ticks": ""
             }
            },
            "type": "histogram"
           }
          ],
          "histogram2d": [
           {
            "colorbar": {
             "outlinewidth": 0,
             "ticks": ""
            },
            "colorscale": [
             [
              0,
              "#0d0887"
             ],
             [
              0.1111111111111111,
              "#46039f"
             ],
             [
              0.2222222222222222,
              "#7201a8"
             ],
             [
              0.3333333333333333,
              "#9c179e"
             ],
             [
              0.4444444444444444,
              "#bd3786"
             ],
             [
              0.5555555555555556,
              "#d8576b"
             ],
             [
              0.6666666666666666,
              "#ed7953"
             ],
             [
              0.7777777777777778,
              "#fb9f3a"
             ],
             [
              0.8888888888888888,
              "#fdca26"
             ],
             [
              1,
              "#f0f921"
             ]
            ],
            "type": "histogram2d"
           }
          ],
          "histogram2dcontour": [
           {
            "colorbar": {
             "outlinewidth": 0,
             "ticks": ""
            },
            "colorscale": [
             [
              0,
              "#0d0887"
             ],
             [
              0.1111111111111111,
              "#46039f"
             ],
             [
              0.2222222222222222,
              "#7201a8"
             ],
             [
              0.3333333333333333,
              "#9c179e"
             ],
             [
              0.4444444444444444,
              "#bd3786"
             ],
             [
              0.5555555555555556,
              "#d8576b"
             ],
             [
              0.6666666666666666,
              "#ed7953"
             ],
             [
              0.7777777777777778,
              "#fb9f3a"
             ],
             [
              0.8888888888888888,
              "#fdca26"
             ],
             [
              1,
              "#f0f921"
             ]
            ],
            "type": "histogram2dcontour"
           }
          ],
          "mesh3d": [
           {
            "colorbar": {
             "outlinewidth": 0,
             "ticks": ""
            },
            "type": "mesh3d"
           }
          ],
          "parcoords": [
           {
            "line": {
             "colorbar": {
              "outlinewidth": 0,
              "ticks": ""
             }
            },
            "type": "parcoords"
           }
          ],
          "pie": [
           {
            "automargin": true,
            "type": "pie"
           }
          ],
          "scatter": [
           {
            "marker": {
             "colorbar": {
              "outlinewidth": 0,
              "ticks": ""
             }
            },
            "type": "scatter"
           }
          ],
          "scatter3d": [
           {
            "line": {
             "colorbar": {
              "outlinewidth": 0,
              "ticks": ""
             }
            },
            "marker": {
             "colorbar": {
              "outlinewidth": 0,
              "ticks": ""
             }
            },
            "type": "scatter3d"
           }
          ],
          "scattercarpet": [
           {
            "marker": {
             "colorbar": {
              "outlinewidth": 0,
              "ticks": ""
             }
            },
            "type": "scattercarpet"
           }
          ],
          "scattergeo": [
           {
            "marker": {
             "colorbar": {
              "outlinewidth": 0,
              "ticks": ""
             }
            },
            "type": "scattergeo"
           }
          ],
          "scattergl": [
           {
            "marker": {
             "colorbar": {
              "outlinewidth": 0,
              "ticks": ""
             }
            },
            "type": "scattergl"
           }
          ],
          "scattermapbox": [
           {
            "marker": {
             "colorbar": {
              "outlinewidth": 0,
              "ticks": ""
             }
            },
            "type": "scattermapbox"
           }
          ],
          "scatterpolar": [
           {
            "marker": {
             "colorbar": {
              "outlinewidth": 0,
              "ticks": ""
             }
            },
            "type": "scatterpolar"
           }
          ],
          "scatterpolargl": [
           {
            "marker": {
             "colorbar": {
              "outlinewidth": 0,
              "ticks": ""
             }
            },
            "type": "scatterpolargl"
           }
          ],
          "scatterternary": [
           {
            "marker": {
             "colorbar": {
              "outlinewidth": 0,
              "ticks": ""
             }
            },
            "type": "scatterternary"
           }
          ],
          "surface": [
           {
            "colorbar": {
             "outlinewidth": 0,
             "ticks": ""
            },
            "colorscale": [
             [
              0,
              "#0d0887"
             ],
             [
              0.1111111111111111,
              "#46039f"
             ],
             [
              0.2222222222222222,
              "#7201a8"
             ],
             [
              0.3333333333333333,
              "#9c179e"
             ],
             [
              0.4444444444444444,
              "#bd3786"
             ],
             [
              0.5555555555555556,
              "#d8576b"
             ],
             [
              0.6666666666666666,
              "#ed7953"
             ],
             [
              0.7777777777777778,
              "#fb9f3a"
             ],
             [
              0.8888888888888888,
              "#fdca26"
             ],
             [
              1,
              "#f0f921"
             ]
            ],
            "type": "surface"
           }
          ],
          "table": [
           {
            "cells": {
             "fill": {
              "color": "#EBF0F8"
             },
             "line": {
              "color": "white"
             }
            },
            "header": {
             "fill": {
              "color": "#C8D4E3"
             },
             "line": {
              "color": "white"
             }
            },
            "type": "table"
           }
          ]
         },
         "layout": {
          "annotationdefaults": {
           "arrowcolor": "#2a3f5f",
           "arrowhead": 0,
           "arrowwidth": 1
          },
          "autotypenumbers": "strict",
          "coloraxis": {
           "colorbar": {
            "outlinewidth": 0,
            "ticks": ""
           }
          },
          "colorscale": {
           "diverging": [
            [
             0,
             "#8e0152"
            ],
            [
             0.1,
             "#c51b7d"
            ],
            [
             0.2,
             "#de77ae"
            ],
            [
             0.3,
             "#f1b6da"
            ],
            [
             0.4,
             "#fde0ef"
            ],
            [
             0.5,
             "#f7f7f7"
            ],
            [
             0.6,
             "#e6f5d0"
            ],
            [
             0.7,
             "#b8e186"
            ],
            [
             0.8,
             "#7fbc41"
            ],
            [
             0.9,
             "#4d9221"
            ],
            [
             1,
             "#276419"
            ]
           ],
           "sequential": [
            [
             0,
             "#0d0887"
            ],
            [
             0.1111111111111111,
             "#46039f"
            ],
            [
             0.2222222222222222,
             "#7201a8"
            ],
            [
             0.3333333333333333,
             "#9c179e"
            ],
            [
             0.4444444444444444,
             "#bd3786"
            ],
            [
             0.5555555555555556,
             "#d8576b"
            ],
            [
             0.6666666666666666,
             "#ed7953"
            ],
            [
             0.7777777777777778,
             "#fb9f3a"
            ],
            [
             0.8888888888888888,
             "#fdca26"
            ],
            [
             1,
             "#f0f921"
            ]
           ],
           "sequentialminus": [
            [
             0,
             "#0d0887"
            ],
            [
             0.1111111111111111,
             "#46039f"
            ],
            [
             0.2222222222222222,
             "#7201a8"
            ],
            [
             0.3333333333333333,
             "#9c179e"
            ],
            [
             0.4444444444444444,
             "#bd3786"
            ],
            [
             0.5555555555555556,
             "#d8576b"
            ],
            [
             0.6666666666666666,
             "#ed7953"
            ],
            [
             0.7777777777777778,
             "#fb9f3a"
            ],
            [
             0.8888888888888888,
             "#fdca26"
            ],
            [
             1,
             "#f0f921"
            ]
           ]
          },
          "colorway": [
           "#636efa",
           "#EF553B",
           "#00cc96",
           "#ab63fa",
           "#FFA15A",
           "#19d3f3",
           "#FF6692",
           "#B6E880",
           "#FF97FF",
           "#FECB52"
          ],
          "font": {
           "color": "#2a3f5f"
          },
          "geo": {
           "bgcolor": "white",
           "lakecolor": "white",
           "landcolor": "#E5ECF6",
           "showlakes": true,
           "showland": true,
           "subunitcolor": "white"
          },
          "hoverlabel": {
           "align": "left"
          },
          "hovermode": "closest",
          "mapbox": {
           "style": "light"
          },
          "paper_bgcolor": "white",
          "plot_bgcolor": "#E5ECF6",
          "polar": {
           "angularaxis": {
            "gridcolor": "white",
            "linecolor": "white",
            "ticks": ""
           },
           "bgcolor": "#E5ECF6",
           "radialaxis": {
            "gridcolor": "white",
            "linecolor": "white",
            "ticks": ""
           }
          },
          "scene": {
           "xaxis": {
            "backgroundcolor": "#E5ECF6",
            "gridcolor": "white",
            "gridwidth": 2,
            "linecolor": "white",
            "showbackground": true,
            "ticks": "",
            "zerolinecolor": "white"
           },
           "yaxis": {
            "backgroundcolor": "#E5ECF6",
            "gridcolor": "white",
            "gridwidth": 2,
            "linecolor": "white",
            "showbackground": true,
            "ticks": "",
            "zerolinecolor": "white"
           },
           "zaxis": {
            "backgroundcolor": "#E5ECF6",
            "gridcolor": "white",
            "gridwidth": 2,
            "linecolor": "white",
            "showbackground": true,
            "ticks": "",
            "zerolinecolor": "white"
           }
          },
          "shapedefaults": {
           "line": {
            "color": "#2a3f5f"
           }
          },
          "ternary": {
           "aaxis": {
            "gridcolor": "white",
            "linecolor": "white",
            "ticks": ""
           },
           "baxis": {
            "gridcolor": "white",
            "linecolor": "white",
            "ticks": ""
           },
           "bgcolor": "#E5ECF6",
           "caxis": {
            "gridcolor": "white",
            "linecolor": "white",
            "ticks": ""
           }
          },
          "title": {
           "x": 0.05
          },
          "xaxis": {
           "automargin": true,
           "gridcolor": "white",
           "linecolor": "white",
           "ticks": "",
           "title": {
            "standoff": 15
           },
           "zerolinecolor": "white",
           "zerolinewidth": 2
          },
          "yaxis": {
           "automargin": true,
           "gridcolor": "white",
           "linecolor": "white",
           "ticks": "",
           "title": {
            "standoff": 15
           },
           "zerolinecolor": "white",
           "zerolinewidth": 2
          }
         }
        },
        "xaxis": {
         "anchor": "y",
         "domain": [
          0,
          1
         ],
         "title": {},
         "type": "category"
        },
        "yaxis": {
         "anchor": "x",
         "domain": [
          0,
          1
         ],
         "range": [
          0,
          0.3
         ],
         "tickformat": "%",
         "title": {
          "text": "Of survey respondents (%)"
         }
        }
       }
      }
     },
     "metadata": {}
    }
   ],
   "metadata": {}
  },
  {
   "cell_type": "code",
   "execution_count": 171,
   "source": [
    "# Write chart to file (.html)\n",
    "config = {\"displayModeBar\": False, \"displaylogo\": False}\n",
    "plotly_obj = plotly.offline.plot(\n",
    "    fig, include_plotlyjs=False, output_type=\"div\", config=config\n",
    ")\n",
    "with open(\"_includes/ease_of_use.html\", \"w\") as file:\n",
    "    file.write(plotly_obj)\n",
    "\n",
    "html_str = '<b>Figure 1.</b> The proportion of survey respondents aged 75 and over that found it easy use their GP practice’s website to look for information or access services. Source: GP Patient Survey 2021.'"
   ],
   "outputs": [],
   "metadata": {}
  },
  {
   "cell_type": "markdown",
   "source": [
    "##  Which of the following general practice online services have you used in the past 12 months"
   ],
   "metadata": {}
  },
  {
   "cell_type": "code",
   "execution_count": 172,
   "source": [
    "# Q3. Which of the following general practice online services have you used in the past 12 months?\n",
    "online_gp_services_LTC = pd.read_csv (r'data/GPPS_Long term health conditions 2021.csv', header = 0)\n",
    "online_gp_services_LTC\n"
   ],
   "outputs": [
    {
     "output_type": "execute_result",
     "data": {
      "text/plain": [
       "                                    Activity                           Lable  \\\n",
       "0                Booking appointments online          Book an<br>appointment   \n",
       "1       Ordering repeat prescriptions online    Order repeat<br>prescription   \n",
       "2        Accessing my medical records online        Access medical<br>record   \n",
       "3  Had an online consultation or appointment  Consultation or<br>appointment   \n",
       "4                              None of these                   None of these   \n",
       "5                Booking appointments online          Book an<br>appointment   \n",
       "6       Ordering repeat prescriptions online    Order repeat<br>prescription   \n",
       "7        Accessing my medical records online        Access medical<br>record   \n",
       "8  Had an online consultation or appointment  Consultation or<br>appointment   \n",
       "9                              None of these                   None of these   \n",
       "\n",
       "                Condition  Count of Respondents  \n",
       "0     Long-term condition                 78948  \n",
       "1     Long-term condition                148279  \n",
       "2     Long-term condition                 35153  \n",
       "3     Long-term condition                 76365  \n",
       "4     Long-term condition                196402  \n",
       "5  No long-term condition                 62795  \n",
       "6  No long-term condition                 50856  \n",
       "7  No long-term condition                 19581  \n",
       "8  No long-term condition                 59085  \n",
       "9  No long-term condition                213146  "
      ],
      "text/html": [
       "<div>\n",
       "<style scoped>\n",
       "    .dataframe tbody tr th:only-of-type {\n",
       "        vertical-align: middle;\n",
       "    }\n",
       "\n",
       "    .dataframe tbody tr th {\n",
       "        vertical-align: top;\n",
       "    }\n",
       "\n",
       "    .dataframe thead th {\n",
       "        text-align: right;\n",
       "    }\n",
       "</style>\n",
       "<table border=\"1\" class=\"dataframe\">\n",
       "  <thead>\n",
       "    <tr style=\"text-align: right;\">\n",
       "      <th></th>\n",
       "      <th>Activity</th>\n",
       "      <th>Lable</th>\n",
       "      <th>Condition</th>\n",
       "      <th>Count of Respondents</th>\n",
       "    </tr>\n",
       "  </thead>\n",
       "  <tbody>\n",
       "    <tr>\n",
       "      <th>0</th>\n",
       "      <td>Booking appointments online</td>\n",
       "      <td>Book an&lt;br&gt;appointment</td>\n",
       "      <td>Long-term condition</td>\n",
       "      <td>78948</td>\n",
       "    </tr>\n",
       "    <tr>\n",
       "      <th>1</th>\n",
       "      <td>Ordering repeat prescriptions online</td>\n",
       "      <td>Order repeat&lt;br&gt;prescription</td>\n",
       "      <td>Long-term condition</td>\n",
       "      <td>148279</td>\n",
       "    </tr>\n",
       "    <tr>\n",
       "      <th>2</th>\n",
       "      <td>Accessing my medical records online</td>\n",
       "      <td>Access medical&lt;br&gt;record</td>\n",
       "      <td>Long-term condition</td>\n",
       "      <td>35153</td>\n",
       "    </tr>\n",
       "    <tr>\n",
       "      <th>3</th>\n",
       "      <td>Had an online consultation or appointment</td>\n",
       "      <td>Consultation or&lt;br&gt;appointment</td>\n",
       "      <td>Long-term condition</td>\n",
       "      <td>76365</td>\n",
       "    </tr>\n",
       "    <tr>\n",
       "      <th>4</th>\n",
       "      <td>None of these</td>\n",
       "      <td>None of these</td>\n",
       "      <td>Long-term condition</td>\n",
       "      <td>196402</td>\n",
       "    </tr>\n",
       "    <tr>\n",
       "      <th>5</th>\n",
       "      <td>Booking appointments online</td>\n",
       "      <td>Book an&lt;br&gt;appointment</td>\n",
       "      <td>No long-term condition</td>\n",
       "      <td>62795</td>\n",
       "    </tr>\n",
       "    <tr>\n",
       "      <th>6</th>\n",
       "      <td>Ordering repeat prescriptions online</td>\n",
       "      <td>Order repeat&lt;br&gt;prescription</td>\n",
       "      <td>No long-term condition</td>\n",
       "      <td>50856</td>\n",
       "    </tr>\n",
       "    <tr>\n",
       "      <th>7</th>\n",
       "      <td>Accessing my medical records online</td>\n",
       "      <td>Access medical&lt;br&gt;record</td>\n",
       "      <td>No long-term condition</td>\n",
       "      <td>19581</td>\n",
       "    </tr>\n",
       "    <tr>\n",
       "      <th>8</th>\n",
       "      <td>Had an online consultation or appointment</td>\n",
       "      <td>Consultation or&lt;br&gt;appointment</td>\n",
       "      <td>No long-term condition</td>\n",
       "      <td>59085</td>\n",
       "    </tr>\n",
       "    <tr>\n",
       "      <th>9</th>\n",
       "      <td>None of these</td>\n",
       "      <td>None of these</td>\n",
       "      <td>No long-term condition</td>\n",
       "      <td>213146</td>\n",
       "    </tr>\n",
       "  </tbody>\n",
       "</table>\n",
       "</div>"
      ]
     },
     "metadata": {},
     "execution_count": 172
    }
   ],
   "metadata": {}
  },
  {
   "cell_type": "code",
   "execution_count": 173,
   "source": [
    "# remove those respondents that did not use any online service\n",
    "online_gp_services_LTC = online_gp_services_LTC[~online_gp_services_LTC['Activity'].str.contains(\"None of these\")]\n",
    "\n",
    "# use groupby on age to get the total counts\n",
    "online_gp_services_total = online_gp_services_LTC.groupby('Condition').sum().reset_index()\n",
    "online_gp_services_total.rename(columns={'Count of Respondents': 'Total Respondents'}, inplace=True)\n",
    "online_gp_services_total\n"
   ],
   "outputs": [
    {
     "output_type": "execute_result",
     "data": {
      "text/plain": [
       "                Condition  Total Respondents\n",
       "0     Long-term condition             338745\n",
       "1  No long-term condition             192317"
      ],
      "text/html": [
       "<div>\n",
       "<style scoped>\n",
       "    .dataframe tbody tr th:only-of-type {\n",
       "        vertical-align: middle;\n",
       "    }\n",
       "\n",
       "    .dataframe tbody tr th {\n",
       "        vertical-align: top;\n",
       "    }\n",
       "\n",
       "    .dataframe thead th {\n",
       "        text-align: right;\n",
       "    }\n",
       "</style>\n",
       "<table border=\"1\" class=\"dataframe\">\n",
       "  <thead>\n",
       "    <tr style=\"text-align: right;\">\n",
       "      <th></th>\n",
       "      <th>Condition</th>\n",
       "      <th>Total Respondents</th>\n",
       "    </tr>\n",
       "  </thead>\n",
       "  <tbody>\n",
       "    <tr>\n",
       "      <th>0</th>\n",
       "      <td>Long-term condition</td>\n",
       "      <td>338745</td>\n",
       "    </tr>\n",
       "    <tr>\n",
       "      <th>1</th>\n",
       "      <td>No long-term condition</td>\n",
       "      <td>192317</td>\n",
       "    </tr>\n",
       "  </tbody>\n",
       "</table>\n",
       "</div>"
      ]
     },
     "metadata": {},
     "execution_count": 173
    }
   ],
   "metadata": {}
  },
  {
   "cell_type": "code",
   "execution_count": 174,
   "source": [
    "# merge the totals back to the df\n",
    "online_gp_services_LTC = pd.merge(online_gp_services_LTC, online_gp_services_total, on='Condition', how='left')\n",
    "# calculate percentages\n",
    "online_gp_services_LTC['Percent'] = online_gp_services_LTC['Count of Respondents']/online_gp_services_LTC['Total Respondents']\n",
    "online_gp_services_LTC = online_gp_services_LTC.sort_values(['Percent', 'Condition'], ascending=True)\n",
    "online_gp_services_LTC"
   ],
   "outputs": [
    {
     "output_type": "execute_result",
     "data": {
      "text/plain": [
       "                                    Activity                           Lable  \\\n",
       "6        Accessing my medical records online        Access medical<br>record   \n",
       "2        Accessing my medical records online        Access medical<br>record   \n",
       "3  Had an online consultation or appointment  Consultation or<br>appointment   \n",
       "0                Booking appointments online          Book an<br>appointment   \n",
       "5       Ordering repeat prescriptions online    Order repeat<br>prescription   \n",
       "7  Had an online consultation or appointment  Consultation or<br>appointment   \n",
       "4                Booking appointments online          Book an<br>appointment   \n",
       "1       Ordering repeat prescriptions online    Order repeat<br>prescription   \n",
       "\n",
       "                Condition  Count of Respondents  Total Respondents   Percent  \n",
       "6  No long-term condition                 19581             192317  0.101816  \n",
       "2     Long-term condition                 35153             338745  0.103774  \n",
       "3     Long-term condition                 76365             338745  0.225435  \n",
       "0     Long-term condition                 78948             338745  0.233060  \n",
       "5  No long-term condition                 50856             192317  0.264438  \n",
       "7  No long-term condition                 59085             192317  0.307227  \n",
       "4  No long-term condition                 62795             192317  0.326518  \n",
       "1     Long-term condition                148279             338745  0.437730  "
      ],
      "text/html": [
       "<div>\n",
       "<style scoped>\n",
       "    .dataframe tbody tr th:only-of-type {\n",
       "        vertical-align: middle;\n",
       "    }\n",
       "\n",
       "    .dataframe tbody tr th {\n",
       "        vertical-align: top;\n",
       "    }\n",
       "\n",
       "    .dataframe thead th {\n",
       "        text-align: right;\n",
       "    }\n",
       "</style>\n",
       "<table border=\"1\" class=\"dataframe\">\n",
       "  <thead>\n",
       "    <tr style=\"text-align: right;\">\n",
       "      <th></th>\n",
       "      <th>Activity</th>\n",
       "      <th>Lable</th>\n",
       "      <th>Condition</th>\n",
       "      <th>Count of Respondents</th>\n",
       "      <th>Total Respondents</th>\n",
       "      <th>Percent</th>\n",
       "    </tr>\n",
       "  </thead>\n",
       "  <tbody>\n",
       "    <tr>\n",
       "      <th>6</th>\n",
       "      <td>Accessing my medical records online</td>\n",
       "      <td>Access medical&lt;br&gt;record</td>\n",
       "      <td>No long-term condition</td>\n",
       "      <td>19581</td>\n",
       "      <td>192317</td>\n",
       "      <td>0.101816</td>\n",
       "    </tr>\n",
       "    <tr>\n",
       "      <th>2</th>\n",
       "      <td>Accessing my medical records online</td>\n",
       "      <td>Access medical&lt;br&gt;record</td>\n",
       "      <td>Long-term condition</td>\n",
       "      <td>35153</td>\n",
       "      <td>338745</td>\n",
       "      <td>0.103774</td>\n",
       "    </tr>\n",
       "    <tr>\n",
       "      <th>3</th>\n",
       "      <td>Had an online consultation or appointment</td>\n",
       "      <td>Consultation or&lt;br&gt;appointment</td>\n",
       "      <td>Long-term condition</td>\n",
       "      <td>76365</td>\n",
       "      <td>338745</td>\n",
       "      <td>0.225435</td>\n",
       "    </tr>\n",
       "    <tr>\n",
       "      <th>0</th>\n",
       "      <td>Booking appointments online</td>\n",
       "      <td>Book an&lt;br&gt;appointment</td>\n",
       "      <td>Long-term condition</td>\n",
       "      <td>78948</td>\n",
       "      <td>338745</td>\n",
       "      <td>0.233060</td>\n",
       "    </tr>\n",
       "    <tr>\n",
       "      <th>5</th>\n",
       "      <td>Ordering repeat prescriptions online</td>\n",
       "      <td>Order repeat&lt;br&gt;prescription</td>\n",
       "      <td>No long-term condition</td>\n",
       "      <td>50856</td>\n",
       "      <td>192317</td>\n",
       "      <td>0.264438</td>\n",
       "    </tr>\n",
       "    <tr>\n",
       "      <th>7</th>\n",
       "      <td>Had an online consultation or appointment</td>\n",
       "      <td>Consultation or&lt;br&gt;appointment</td>\n",
       "      <td>No long-term condition</td>\n",
       "      <td>59085</td>\n",
       "      <td>192317</td>\n",
       "      <td>0.307227</td>\n",
       "    </tr>\n",
       "    <tr>\n",
       "      <th>4</th>\n",
       "      <td>Booking appointments online</td>\n",
       "      <td>Book an&lt;br&gt;appointment</td>\n",
       "      <td>No long-term condition</td>\n",
       "      <td>62795</td>\n",
       "      <td>192317</td>\n",
       "      <td>0.326518</td>\n",
       "    </tr>\n",
       "    <tr>\n",
       "      <th>1</th>\n",
       "      <td>Ordering repeat prescriptions online</td>\n",
       "      <td>Order repeat&lt;br&gt;prescription</td>\n",
       "      <td>Long-term condition</td>\n",
       "      <td>148279</td>\n",
       "      <td>338745</td>\n",
       "      <td>0.437730</td>\n",
       "    </tr>\n",
       "  </tbody>\n",
       "</table>\n",
       "</div>"
      ]
     },
     "metadata": {},
     "execution_count": 174
    }
   ],
   "metadata": {}
  },
  {
   "cell_type": "code",
   "execution_count": 175,
   "source": [
    "# plot the long (tidy) dataframe\n",
    "fig = px.bar(\n",
    "    online_gp_services_LTC,\n",
    "    x=\"Activity\",\n",
    "    y=\"Percent\",\n",
    "    color=\"Condition\",\n",
    "    color_discrete_sequence=nhs_colours,\n",
    "    barmode=\"group\",\n",
    "    text=\"Percent\",\n",
    "    height=350,\n",
    ")\n",
    "\n",
    "# Asthetics of the plot\n",
    "fig.update_layout(\n",
    "    # change background colour \n",
    "    {\"plot_bgcolor\": \"rgba(0,0,0, 0)\", \"paper_bgcolor\": \"rgba(0,0,0, 0)\"},\n",
    "    yaxis_title='Of respondents that use online services (%)',\n",
    "    yaxis=dict(tickformat = \"%\"),\n",
    "    xaxis=dict(\n",
    "        tickmode = 'array',\n",
    "        tickvals = online_gp_services_LTC['Activity'].tolist(),\n",
    "        ticktext = online_gp_services_LTC['Lable'].tolist(),\n",
    "        tickangle = 0\n",
    "    ),\n",
    "    xaxis_title=None,\n",
    "    # change fonts\n",
    "    font=dict(family=\"Arial\", size=16),\n",
    "    # autosize makes the chart 'responsive' (https://en.wikipedia.org/wiki/Responsive_web_design)\n",
    "    autosize=True,\n",
    "    margin=dict(\n",
    "        l=50,\n",
    "        r=50,\n",
    "        b=50,\n",
    "        t=50,\n",
    "        pad=4,\n",
    "        autoexpand=True\n",
    "        ),\n",
    "    ## options for the hover-over text\n",
    "    # changes how the hover-over box is displayed\n",
    "    hovermode=\"x unified\",\n",
    "    # hoverlabel_align = 'right',\n",
    "    # changes the hover-over box formatting\n",
    "    hoverlabel=dict(\n",
    "        bgcolor=\"white\",\n",
    "        font_size=16,\n",
    "        font_family=\"Arial\"\n",
    "    ),\n",
    "    legend=dict(\n",
    "    orientation=\"h\",\n",
    "    yanchor=\"bottom\",\n",
    "    y=1.02,\n",
    "    xanchor=\"right\",\n",
    "    x=1\n",
    "    )\n",
    ")\n",
    "# options to change how the bars look\n",
    "fig.update_traces(\n",
    "    # this also changes the hover-over box formatting\n",
    "    hovertemplate='<b>%{fullData.name}</b>: %{text:.1%}<extra></extra>',\n",
    "    # outline of bars\n",
    "    marker_line_color = 'rgb(8,48,107)',\n",
    "    marker_line_width=1.5,\n",
    "    opacity=1,\n",
    "    # options for text inside bars\n",
    "    texttemplate='%{text:.1%}',\n",
    "    textposition='inside',\n",
    "    #textangle = 0\n",
    "    )\n",
    "fig.update_xaxes(type='category')\n",
    "fig.show()"
   ],
   "outputs": [
    {
     "output_type": "display_data",
     "data": {
      "application/vnd.plotly.v1+json": {
       "config": {
        "plotlyServerURL": "https://plot.ly"
       },
       "data": [
        {
         "alignmentgroup": "True",
         "hovertemplate": "<b>%{fullData.name}</b>: %{text:.1%}<extra></extra>",
         "legendgroup": "No long-term condition",
         "marker": {
          "color": "#00A499",
          "line": {
           "color": "rgb(8,48,107)",
           "width": 1.5
          }
         },
         "name": "No long-term condition",
         "offsetgroup": "No long-term condition",
         "opacity": 1,
         "orientation": "v",
         "showlegend": true,
         "text": [
          0.10181627209243073,
          0.26443840118138284,
          0.307227130206898,
          0.3265181965192885
         ],
         "textangle": 0,
         "textposition": "inside",
         "texttemplate": "%{text:.1%}",
         "type": "bar",
         "x": [
          "Accessing my medical records online",
          "Ordering repeat prescriptions online",
          "Had an online consultation or appointment",
          "Booking appointments online"
         ],
         "xaxis": "x",
         "y": [
          0.10181627209243073,
          0.26443840118138284,
          0.307227130206898,
          0.3265181965192885
         ],
         "yaxis": "y"
        },
        {
         "alignmentgroup": "True",
         "hovertemplate": "<b>%{fullData.name}</b>: %{text:.1%}<extra></extra>",
         "legendgroup": "Long-term condition",
         "marker": {
          "color": "#FFB81C",
          "line": {
           "color": "rgb(8,48,107)",
           "width": 1.5
          }
         },
         "name": "Long-term condition",
         "offsetgroup": "Long-term condition",
         "opacity": 1,
         "orientation": "v",
         "showlegend": true,
         "text": [
          0.10377422544982214,
          0.2254350617721295,
          0.23306026657220033,
          0.43773044620584806
         ],
         "textangle": 0,
         "textposition": "inside",
         "texttemplate": "%{text:.1%}",
         "type": "bar",
         "x": [
          "Accessing my medical records online",
          "Had an online consultation or appointment",
          "Booking appointments online",
          "Ordering repeat prescriptions online"
         ],
         "xaxis": "x",
         "y": [
          0.10377422544982214,
          0.2254350617721295,
          0.23306026657220033,
          0.43773044620584806
         ],
         "yaxis": "y"
        }
       ],
       "layout": {
        "autosize": true,
        "barmode": "group",
        "font": {
         "family": "Arial",
         "size": 16
        },
        "height": 350,
        "hoverlabel": {
         "bgcolor": "white",
         "font": {
          "family": "Arial",
          "size": 16
         }
        },
        "hovermode": "x unified",
        "legend": {
         "orientation": "h",
         "title": {
          "text": "Condition"
         },
         "tracegroupgap": 0,
         "x": 1,
         "xanchor": "right",
         "y": 1.02,
         "yanchor": "bottom"
        },
        "margin": {
         "autoexpand": true,
         "b": 50,
         "l": 50,
         "pad": 4,
         "r": 50,
         "t": 0
        },
        "paper_bgcolor": "rgba(0,0,0, 0)",
        "plot_bgcolor": "rgba(0,0,0, 0)",
        "template": {
         "data": {
          "bar": [
           {
            "error_x": {
             "color": "#2a3f5f"
            },
            "error_y": {
             "color": "#2a3f5f"
            },
            "marker": {
             "line": {
              "color": "#E5ECF6",
              "width": 0.5
             }
            },
            "type": "bar"
           }
          ],
          "barpolar": [
           {
            "marker": {
             "line": {
              "color": "#E5ECF6",
              "width": 0.5
             }
            },
            "type": "barpolar"
           }
          ],
          "carpet": [
           {
            "aaxis": {
             "endlinecolor": "#2a3f5f",
             "gridcolor": "white",
             "linecolor": "white",
             "minorgridcolor": "white",
             "startlinecolor": "#2a3f5f"
            },
            "baxis": {
             "endlinecolor": "#2a3f5f",
             "gridcolor": "white",
             "linecolor": "white",
             "minorgridcolor": "white",
             "startlinecolor": "#2a3f5f"
            },
            "type": "carpet"
           }
          ],
          "choropleth": [
           {
            "colorbar": {
             "outlinewidth": 0,
             "ticks": ""
            },
            "type": "choropleth"
           }
          ],
          "contour": [
           {
            "colorbar": {
             "outlinewidth": 0,
             "ticks": ""
            },
            "colorscale": [
             [
              0,
              "#0d0887"
             ],
             [
              0.1111111111111111,
              "#46039f"
             ],
             [
              0.2222222222222222,
              "#7201a8"
             ],
             [
              0.3333333333333333,
              "#9c179e"
             ],
             [
              0.4444444444444444,
              "#bd3786"
             ],
             [
              0.5555555555555556,
              "#d8576b"
             ],
             [
              0.6666666666666666,
              "#ed7953"
             ],
             [
              0.7777777777777778,
              "#fb9f3a"
             ],
             [
              0.8888888888888888,
              "#fdca26"
             ],
             [
              1,
              "#f0f921"
             ]
            ],
            "type": "contour"
           }
          ],
          "contourcarpet": [
           {
            "colorbar": {
             "outlinewidth": 0,
             "ticks": ""
            },
            "type": "contourcarpet"
           }
          ],
          "heatmap": [
           {
            "colorbar": {
             "outlinewidth": 0,
             "ticks": ""
            },
            "colorscale": [
             [
              0,
              "#0d0887"
             ],
             [
              0.1111111111111111,
              "#46039f"
             ],
             [
              0.2222222222222222,
              "#7201a8"
             ],
             [
              0.3333333333333333,
              "#9c179e"
             ],
             [
              0.4444444444444444,
              "#bd3786"
             ],
             [
              0.5555555555555556,
              "#d8576b"
             ],
             [
              0.6666666666666666,
              "#ed7953"
             ],
             [
              0.7777777777777778,
              "#fb9f3a"
             ],
             [
              0.8888888888888888,
              "#fdca26"
             ],
             [
              1,
              "#f0f921"
             ]
            ],
            "type": "heatmap"
           }
          ],
          "heatmapgl": [
           {
            "colorbar": {
             "outlinewidth": 0,
             "ticks": ""
            },
            "colorscale": [
             [
              0,
              "#0d0887"
             ],
             [
              0.1111111111111111,
              "#46039f"
             ],
             [
              0.2222222222222222,
              "#7201a8"
             ],
             [
              0.3333333333333333,
              "#9c179e"
             ],
             [
              0.4444444444444444,
              "#bd3786"
             ],
             [
              0.5555555555555556,
              "#d8576b"
             ],
             [
              0.6666666666666666,
              "#ed7953"
             ],
             [
              0.7777777777777778,
              "#fb9f3a"
             ],
             [
              0.8888888888888888,
              "#fdca26"
             ],
             [
              1,
              "#f0f921"
             ]
            ],
            "type": "heatmapgl"
           }
          ],
          "histogram": [
           {
            "marker": {
             "colorbar": {
              "outlinewidth": 0,
              "ticks": ""
             }
            },
            "type": "histogram"
           }
          ],
          "histogram2d": [
           {
            "colorbar": {
             "outlinewidth": 0,
             "ticks": ""
            },
            "colorscale": [
             [
              0,
              "#0d0887"
             ],
             [
              0.1111111111111111,
              "#46039f"
             ],
             [
              0.2222222222222222,
              "#7201a8"
             ],
             [
              0.3333333333333333,
              "#9c179e"
             ],
             [
              0.4444444444444444,
              "#bd3786"
             ],
             [
              0.5555555555555556,
              "#d8576b"
             ],
             [
              0.6666666666666666,
              "#ed7953"
             ],
             [
              0.7777777777777778,
              "#fb9f3a"
             ],
             [
              0.8888888888888888,
              "#fdca26"
             ],
             [
              1,
              "#f0f921"
             ]
            ],
            "type": "histogram2d"
           }
          ],
          "histogram2dcontour": [
           {
            "colorbar": {
             "outlinewidth": 0,
             "ticks": ""
            },
            "colorscale": [
             [
              0,
              "#0d0887"
             ],
             [
              0.1111111111111111,
              "#46039f"
             ],
             [
              0.2222222222222222,
              "#7201a8"
             ],
             [
              0.3333333333333333,
              "#9c179e"
             ],
             [
              0.4444444444444444,
              "#bd3786"
             ],
             [
              0.5555555555555556,
              "#d8576b"
             ],
             [
              0.6666666666666666,
              "#ed7953"
             ],
             [
              0.7777777777777778,
              "#fb9f3a"
             ],
             [
              0.8888888888888888,
              "#fdca26"
             ],
             [
              1,
              "#f0f921"
             ]
            ],
            "type": "histogram2dcontour"
           }
          ],
          "mesh3d": [
           {
            "colorbar": {
             "outlinewidth": 0,
             "ticks": ""
            },
            "type": "mesh3d"
           }
          ],
          "parcoords": [
           {
            "line": {
             "colorbar": {
              "outlinewidth": 0,
              "ticks": ""
             }
            },
            "type": "parcoords"
           }
          ],
          "pie": [
           {
            "automargin": true,
            "type": "pie"
           }
          ],
          "scatter": [
           {
            "marker": {
             "colorbar": {
              "outlinewidth": 0,
              "ticks": ""
             }
            },
            "type": "scatter"
           }
          ],
          "scatter3d": [
           {
            "line": {
             "colorbar": {
              "outlinewidth": 0,
              "ticks": ""
             }
            },
            "marker": {
             "colorbar": {
              "outlinewidth": 0,
              "ticks": ""
             }
            },
            "type": "scatter3d"
           }
          ],
          "scattercarpet": [
           {
            "marker": {
             "colorbar": {
              "outlinewidth": 0,
              "ticks": ""
             }
            },
            "type": "scattercarpet"
           }
          ],
          "scattergeo": [
           {
            "marker": {
             "colorbar": {
              "outlinewidth": 0,
              "ticks": ""
             }
            },
            "type": "scattergeo"
           }
          ],
          "scattergl": [
           {
            "marker": {
             "colorbar": {
              "outlinewidth": 0,
              "ticks": ""
             }
            },
            "type": "scattergl"
           }
          ],
          "scattermapbox": [
           {
            "marker": {
             "colorbar": {
              "outlinewidth": 0,
              "ticks": ""
             }
            },
            "type": "scattermapbox"
           }
          ],
          "scatterpolar": [
           {
            "marker": {
             "colorbar": {
              "outlinewidth": 0,
              "ticks": ""
             }
            },
            "type": "scatterpolar"
           }
          ],
          "scatterpolargl": [
           {
            "marker": {
             "colorbar": {
              "outlinewidth": 0,
              "ticks": ""
             }
            },
            "type": "scatterpolargl"
           }
          ],
          "scatterternary": [
           {
            "marker": {
             "colorbar": {
              "outlinewidth": 0,
              "ticks": ""
             }
            },
            "type": "scatterternary"
           }
          ],
          "surface": [
           {
            "colorbar": {
             "outlinewidth": 0,
             "ticks": ""
            },
            "colorscale": [
             [
              0,
              "#0d0887"
             ],
             [
              0.1111111111111111,
              "#46039f"
             ],
             [
              0.2222222222222222,
              "#7201a8"
             ],
             [
              0.3333333333333333,
              "#9c179e"
             ],
             [
              0.4444444444444444,
              "#bd3786"
             ],
             [
              0.5555555555555556,
              "#d8576b"
             ],
             [
              0.6666666666666666,
              "#ed7953"
             ],
             [
              0.7777777777777778,
              "#fb9f3a"
             ],
             [
              0.8888888888888888,
              "#fdca26"
             ],
             [
              1,
              "#f0f921"
             ]
            ],
            "type": "surface"
           }
          ],
          "table": [
           {
            "cells": {
             "fill": {
              "color": "#EBF0F8"
             },
             "line": {
              "color": "white"
             }
            },
            "header": {
             "fill": {
              "color": "#C8D4E3"
             },
             "line": {
              "color": "white"
             }
            },
            "type": "table"
           }
          ]
         },
         "layout": {
          "annotationdefaults": {
           "arrowcolor": "#2a3f5f",
           "arrowhead": 0,
           "arrowwidth": 1
          },
          "autotypenumbers": "strict",
          "coloraxis": {
           "colorbar": {
            "outlinewidth": 0,
            "ticks": ""
           }
          },
          "colorscale": {
           "diverging": [
            [
             0,
             "#8e0152"
            ],
            [
             0.1,
             "#c51b7d"
            ],
            [
             0.2,
             "#de77ae"
            ],
            [
             0.3,
             "#f1b6da"
            ],
            [
             0.4,
             "#fde0ef"
            ],
            [
             0.5,
             "#f7f7f7"
            ],
            [
             0.6,
             "#e6f5d0"
            ],
            [
             0.7,
             "#b8e186"
            ],
            [
             0.8,
             "#7fbc41"
            ],
            [
             0.9,
             "#4d9221"
            ],
            [
             1,
             "#276419"
            ]
           ],
           "sequential": [
            [
             0,
             "#0d0887"
            ],
            [
             0.1111111111111111,
             "#46039f"
            ],
            [
             0.2222222222222222,
             "#7201a8"
            ],
            [
             0.3333333333333333,
             "#9c179e"
            ],
            [
             0.4444444444444444,
             "#bd3786"
            ],
            [
             0.5555555555555556,
             "#d8576b"
            ],
            [
             0.6666666666666666,
             "#ed7953"
            ],
            [
             0.7777777777777778,
             "#fb9f3a"
            ],
            [
             0.8888888888888888,
             "#fdca26"
            ],
            [
             1,
             "#f0f921"
            ]
           ],
           "sequentialminus": [
            [
             0,
             "#0d0887"
            ],
            [
             0.1111111111111111,
             "#46039f"
            ],
            [
             0.2222222222222222,
             "#7201a8"
            ],
            [
             0.3333333333333333,
             "#9c179e"
            ],
            [
             0.4444444444444444,
             "#bd3786"
            ],
            [
             0.5555555555555556,
             "#d8576b"
            ],
            [
             0.6666666666666666,
             "#ed7953"
            ],
            [
             0.7777777777777778,
             "#fb9f3a"
            ],
            [
             0.8888888888888888,
             "#fdca26"
            ],
            [
             1,
             "#f0f921"
            ]
           ]
          },
          "colorway": [
           "#636efa",
           "#EF553B",
           "#00cc96",
           "#ab63fa",
           "#FFA15A",
           "#19d3f3",
           "#FF6692",
           "#B6E880",
           "#FF97FF",
           "#FECB52"
          ],
          "font": {
           "color": "#2a3f5f"
          },
          "geo": {
           "bgcolor": "white",
           "lakecolor": "white",
           "landcolor": "#E5ECF6",
           "showlakes": true,
           "showland": true,
           "subunitcolor": "white"
          },
          "hoverlabel": {
           "align": "left"
          },
          "hovermode": "closest",
          "mapbox": {
           "style": "light"
          },
          "paper_bgcolor": "white",
          "plot_bgcolor": "#E5ECF6",
          "polar": {
           "angularaxis": {
            "gridcolor": "white",
            "linecolor": "white",
            "ticks": ""
           },
           "bgcolor": "#E5ECF6",
           "radialaxis": {
            "gridcolor": "white",
            "linecolor": "white",
            "ticks": ""
           }
          },
          "scene": {
           "xaxis": {
            "backgroundcolor": "#E5ECF6",
            "gridcolor": "white",
            "gridwidth": 2,
            "linecolor": "white",
            "showbackground": true,
            "ticks": "",
            "zerolinecolor": "white"
           },
           "yaxis": {
            "backgroundcolor": "#E5ECF6",
            "gridcolor": "white",
            "gridwidth": 2,
            "linecolor": "white",
            "showbackground": true,
            "ticks": "",
            "zerolinecolor": "white"
           },
           "zaxis": {
            "backgroundcolor": "#E5ECF6",
            "gridcolor": "white",
            "gridwidth": 2,
            "linecolor": "white",
            "showbackground": true,
            "ticks": "",
            "zerolinecolor": "white"
           }
          },
          "shapedefaults": {
           "line": {
            "color": "#2a3f5f"
           }
          },
          "ternary": {
           "aaxis": {
            "gridcolor": "white",
            "linecolor": "white",
            "ticks": ""
           },
           "baxis": {
            "gridcolor": "white",
            "linecolor": "white",
            "ticks": ""
           },
           "bgcolor": "#E5ECF6",
           "caxis": {
            "gridcolor": "white",
            "linecolor": "white",
            "ticks": ""
           }
          },
          "title": {
           "x": 0.05
          },
          "xaxis": {
           "automargin": true,
           "gridcolor": "white",
           "linecolor": "white",
           "ticks": "",
           "title": {
            "standoff": 15
           },
           "zerolinecolor": "white",
           "zerolinewidth": 2
          },
          "yaxis": {
           "automargin": true,
           "gridcolor": "white",
           "linecolor": "white",
           "ticks": "",
           "title": {
            "standoff": 15
           },
           "zerolinecolor": "white",
           "zerolinewidth": 2
          }
         }
        },
        "xaxis": {
         "anchor": "y",
         "domain": [
          0,
          1
         ],
         "tickangle": 0,
         "tickmode": "array",
         "ticktext": [
          "Access medical<br>record",
          "Access medical<br>record",
          "Consultation or<br>appointment",
          "Book an<br>appointment",
          "Order repeat<br>prescription",
          "Consultation or<br>appointment",
          "Book an<br>appointment",
          "Order repeat<br>prescription"
         ],
         "tickvals": [
          "Accessing my medical records online",
          "Accessing my medical records online",
          "Had an online consultation or appointment",
          "Booking appointments online",
          "Ordering repeat prescriptions online",
          "Had an online consultation or appointment",
          "Booking appointments online",
          "Ordering repeat prescriptions online"
         ],
         "title": {},
         "type": "category"
        },
        "yaxis": {
         "anchor": "x",
         "domain": [
          0,
          1
         ],
         "tickformat": "%",
         "title": {
          "text": "Of respondents that use online services (%)"
         }
        }
       }
      }
     },
     "metadata": {}
    }
   ],
   "metadata": {}
  },
  {
   "cell_type": "code",
   "execution_count": 176,
   "source": [
    "# Write chart to file (.html)\n",
    "config = {\"displayModeBar\": False, \"displaylogo\": False}\n",
    "plotly_obj = plotly.offline.plot(\n",
    "    fig, include_plotlyjs=False, output_type=\"div\", config=config\n",
    ")\n",
    "with open(\"_includes/online_activities_ltc.html\", \"w\") as file:\n",
    "    file.write(plotly_obj)\n",
    "\n",
    "html_str = '<b>Figure 3.</b> The proportion of online service use between survey respondents (with and without long-term conditions) that used an online services within the last 12 months (as of March 2021). Source: GP Patient Survey 2021.'"
   ],
   "outputs": [],
   "metadata": {}
  }
 ],
 "metadata": {
  "kernelspec": {
   "name": "python3",
   "display_name": "Python 3.8.5 64-bit ('base': conda)"
  },
  "language_info": {
   "codemirror_mode": {
    "name": "ipython",
    "version": 3
   },
   "file_extension": ".py",
   "mimetype": "text/x-python",
   "name": "python",
   "nbconvert_exporter": "python",
   "pygments_lexer": "ipython3",
   "version": "3.8.5"
  },
  "interpreter": {
   "hash": "569d6b7e9215e11aba41c6454007e5c1b78bad7df09dab765d8cf00362c40f03"
  }
 },
 "nbformat": 4,
 "nbformat_minor": 5
}